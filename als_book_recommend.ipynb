{
 "cells": [
  {
   "cell_type": "markdown",
   "metadata": {},
   "source": [
    "#  Book Recommendation System with Pyspark ALS"
   ]
  },
  {
   "cell_type": "markdown",
   "metadata": {},
   "source": [
    "#  import libraries"
   ]
  },
  {
   "cell_type": "code",
   "execution_count": 2,
   "metadata": {
    "colab": {
     "base_uri": "https://localhost:8080/",
     "height": 368
    },
    "id": "RzrDFIO-ClHG",
    "outputId": "28c0053b-e43b-45c3-9b0f-8283b4b34829"
   },
   "outputs": [],
   "source": [
    "from pyspark import SparkContext\n",
    "from pyspark.conf import SparkConf\n",
    "from pyspark.ml.recommendation import ALS\n",
    "from pyspark.ml.evaluation import RegressionEvaluator\n",
    "from pyspark.ml.tuning import ParamGridBuilder, CrossValidator\n",
    "from pyspark.sql import SparkSession ,Row\n",
    "from pyspark.sql import SQLContext\n",
    "from pyspark.sql.functions import desc, asc\n",
    "from pyspark.sql.functions import col, avg\n",
    "from pyspark.sql.functions import explode\n",
    "from pyspark.sql.types import StructType,StructField,IntegerType\n",
    "import matplotlib.pyplot as plt\n",
    "import pickle\n",
    "%matplotlib inline"
   ]
  },
  {
   "cell_type": "code",
   "execution_count": 3,
   "metadata": {
    "id": "lN_39YjfwMFz"
   },
   "outputs": [],
   "source": [
    "import pyspark\n",
    "import numpy as np\n",
    "import pandas as pd\n",
    "import warnings\n",
    "warnings.filterwarnings('ignore')"
   ]
  },
  {
   "cell_type": "markdown",
   "metadata": {},
   "source": [
    "# initialize the spark session"
   ]
  },
  {
   "cell_type": "code",
   "execution_count": 4,
   "metadata": {
    "colab": {
     "base_uri": "https://localhost:8080/"
    },
    "id": "pAUH0ZG7Cvra",
    "outputId": "4583fcbc-b815-4741-a2cc-cc66c0904afb"
   },
   "outputs": [
    {
     "name": "stderr",
     "output_type": "stream",
     "text": [
      "Setting default log level to \"WARN\".\n",
      "To adjust logging level use sc.setLogLevel(newLevel). For SparkR, use setLogLevel(newLevel).\n",
      "23/07/09 09:54:04 WARN NativeCodeLoader: Unable to load native-hadoop library for your platform... using builtin-java classes where applicable\n"
     ]
    }
   ],
   "source": [
    "spark = pyspark.sql.SparkSession.builder \\\n",
    "                                .master('local[*]') \\\n",
    "                                .config(\"spark.driver.memory\", \"30g\") \\\n",
    "                                .appName (\"Book Recommendatin\") \\\n",
    "                                .getOrCreate()\n",
    "\n",
    "sc = spark.sparkContext\n",
    "sqlContext = SQLContext (sc)"
   ]
  },
  {
   "cell_type": "markdown",
   "metadata": {},
   "source": [
    "#  load dataset"
   ]
  },
  {
   "cell_type": "code",
   "execution_count": 5,
   "metadata": {
    "id": "vnkSifS-qWFN"
   },
   "outputs": [],
   "source": [
    "#  source : https://www.kaggle.com/datasets/zygmunt/goodbooks-10k"
   ]
  },
  {
   "cell_type": "code",
   "execution_count": 6,
   "metadata": {
    "id": "S5_m4172NeJQ"
   },
   "outputs": [
    {
     "name": "stderr",
     "output_type": "stream",
     "text": [
      "                                                                                \r"
     ]
    }
   ],
   "source": [
    "books = spark.read.csv('goodbooks/books.csv', inferSchema=True, header=True)"
   ]
  },
  {
   "cell_type": "code",
   "execution_count": 7,
   "metadata": {
    "colab": {
     "base_uri": "https://localhost:8080/"
    },
    "id": "6ktYdPE49fIj",
    "outputId": "15429c1a-3508-4d60-b87b-ab2ca9503424"
   },
   "outputs": [
    {
     "name": "stdout",
     "output_type": "stream",
     "text": [
      "root\n",
      " |-- id: integer (nullable = true)\n",
      " |-- book_id: integer (nullable = true)\n",
      " |-- best_book_id: integer (nullable = true)\n",
      " |-- work_id: integer (nullable = true)\n",
      " |-- books_count: integer (nullable = true)\n",
      " |-- isbn: string (nullable = true)\n",
      " |-- isbn13: double (nullable = true)\n",
      " |-- authors: string (nullable = true)\n",
      " |-- original_publication_year: integer (nullable = true)\n",
      " |-- original_title: string (nullable = true)\n",
      " |-- title: string (nullable = true)\n",
      " |-- language_code: string (nullable = true)\n",
      " |-- average_rating: double (nullable = true)\n",
      " |-- ratings_count: integer (nullable = true)\n",
      " |-- work_ratings_count: integer (nullable = true)\n",
      " |-- work_text_reviews_count: integer (nullable = true)\n",
      " |-- ratings_1: integer (nullable = true)\n",
      " |-- ratings_2: integer (nullable = true)\n",
      " |-- ratings_3: integer (nullable = true)\n",
      " |-- ratings_4: integer (nullable = true)\n",
      " |-- ratings_5: integer (nullable = true)\n",
      " |-- image_url: string (nullable = true)\n",
      " |-- small_image_url: string (nullable = true)\n",
      "\n"
     ]
    }
   ],
   "source": [
    "books.printSchema()"
   ]
  },
  {
   "cell_type": "code",
   "execution_count": 8,
   "metadata": {
    "id": "7XBQsj9uFoRM"
   },
   "outputs": [
    {
     "name": "stderr",
     "output_type": "stream",
     "text": [
      "\r",
      "[Stage 2:>                                                          (0 + 1) / 1]\r",
      "\r",
      "                                                                                \r"
     ]
    }
   ],
   "source": [
    "df_books = books.toPandas()"
   ]
  },
  {
   "cell_type": "code",
   "execution_count": 9,
   "metadata": {
    "colab": {
     "base_uri": "https://localhost:8080/"
    },
    "id": "1fgUuxAcF6tI",
    "outputId": "ee85f898-d320-4b22-90b6-281357f8ff1b"
   },
   "outputs": [
    {
     "name": "stdout",
     "output_type": "stream",
     "text": [
      "<class 'pandas.core.frame.DataFrame'>\n",
      "RangeIndex: 10000 entries, 0 to 9999\n",
      "Data columns (total 23 columns):\n",
      " #   Column                     Non-Null Count  Dtype  \n",
      "---  ------                     --------------  -----  \n",
      " 0   id                         10000 non-null  int32  \n",
      " 1   book_id                    10000 non-null  int32  \n",
      " 2   best_book_id               10000 non-null  int32  \n",
      " 3   work_id                    10000 non-null  int32  \n",
      " 4   books_count                10000 non-null  int32  \n",
      " 5   isbn                       9300 non-null   object \n",
      " 6   isbn13                     9415 non-null   float64\n",
      " 7   authors                    10000 non-null  object \n",
      " 8   original_publication_year  9979 non-null   float64\n",
      " 9   original_title             9415 non-null   object \n",
      " 10  title                      10000 non-null  object \n",
      " 11  language_code              8916 non-null   object \n",
      " 12  average_rating             10000 non-null  float64\n",
      " 13  ratings_count              10000 non-null  int32  \n",
      " 14  work_ratings_count         10000 non-null  int32  \n",
      " 15  work_text_reviews_count    10000 non-null  int32  \n",
      " 16  ratings_1                  10000 non-null  int32  \n",
      " 17  ratings_2                  10000 non-null  int32  \n",
      " 18  ratings_3                  10000 non-null  int32  \n",
      " 19  ratings_4                  10000 non-null  int32  \n",
      " 20  ratings_5                  10000 non-null  int32  \n",
      " 21  image_url                  10000 non-null  object \n",
      " 22  small_image_url            10000 non-null  object \n",
      "dtypes: float64(3), int32(13), object(7)\n",
      "memory usage: 1.3+ MB\n"
     ]
    }
   ],
   "source": [
    "df_books.info()"
   ]
  },
  {
   "cell_type": "code",
   "execution_count": 10,
   "metadata": {},
   "outputs": [
    {
     "data": {
      "text/html": [
       "<div>\n",
       "<style scoped>\n",
       "    .dataframe tbody tr th:only-of-type {\n",
       "        vertical-align: middle;\n",
       "    }\n",
       "\n",
       "    .dataframe tbody tr th {\n",
       "        vertical-align: top;\n",
       "    }\n",
       "\n",
       "    .dataframe thead th {\n",
       "        text-align: right;\n",
       "    }\n",
       "</style>\n",
       "<table border=\"1\" class=\"dataframe\">\n",
       "  <thead>\n",
       "    <tr style=\"text-align: right;\">\n",
       "      <th></th>\n",
       "      <th>id</th>\n",
       "      <th>book_id</th>\n",
       "      <th>best_book_id</th>\n",
       "      <th>work_id</th>\n",
       "      <th>books_count</th>\n",
       "      <th>isbn</th>\n",
       "      <th>isbn13</th>\n",
       "      <th>authors</th>\n",
       "      <th>original_publication_year</th>\n",
       "      <th>original_title</th>\n",
       "      <th>...</th>\n",
       "      <th>ratings_count</th>\n",
       "      <th>work_ratings_count</th>\n",
       "      <th>work_text_reviews_count</th>\n",
       "      <th>ratings_1</th>\n",
       "      <th>ratings_2</th>\n",
       "      <th>ratings_3</th>\n",
       "      <th>ratings_4</th>\n",
       "      <th>ratings_5</th>\n",
       "      <th>image_url</th>\n",
       "      <th>small_image_url</th>\n",
       "    </tr>\n",
       "  </thead>\n",
       "  <tbody>\n",
       "    <tr>\n",
       "      <th>0</th>\n",
       "      <td>1</td>\n",
       "      <td>2767052</td>\n",
       "      <td>2767052</td>\n",
       "      <td>2792775</td>\n",
       "      <td>272</td>\n",
       "      <td>439023483</td>\n",
       "      <td>9.780000e+12</td>\n",
       "      <td>Suzanne Collins</td>\n",
       "      <td>2008.0</td>\n",
       "      <td>The Hunger Games</td>\n",
       "      <td>...</td>\n",
       "      <td>4780653</td>\n",
       "      <td>4942365</td>\n",
       "      <td>155254</td>\n",
       "      <td>66715</td>\n",
       "      <td>127936</td>\n",
       "      <td>560092</td>\n",
       "      <td>1481305</td>\n",
       "      <td>2706317</td>\n",
       "      <td>https://images.gr-assets.com/books/1447303603m...</td>\n",
       "      <td>https://images.gr-assets.com/books/1447303603s...</td>\n",
       "    </tr>\n",
       "    <tr>\n",
       "      <th>1</th>\n",
       "      <td>2</td>\n",
       "      <td>3</td>\n",
       "      <td>3</td>\n",
       "      <td>4640799</td>\n",
       "      <td>491</td>\n",
       "      <td>439554934</td>\n",
       "      <td>9.780000e+12</td>\n",
       "      <td>J.K. Rowling, Mary GrandPré</td>\n",
       "      <td>1997.0</td>\n",
       "      <td>Harry Potter and the Philosopher's Stone</td>\n",
       "      <td>...</td>\n",
       "      <td>4602479</td>\n",
       "      <td>4800065</td>\n",
       "      <td>75867</td>\n",
       "      <td>75504</td>\n",
       "      <td>101676</td>\n",
       "      <td>455024</td>\n",
       "      <td>1156318</td>\n",
       "      <td>3011543</td>\n",
       "      <td>https://images.gr-assets.com/books/1474154022m...</td>\n",
       "      <td>https://images.gr-assets.com/books/1474154022s...</td>\n",
       "    </tr>\n",
       "    <tr>\n",
       "      <th>2</th>\n",
       "      <td>3</td>\n",
       "      <td>41865</td>\n",
       "      <td>41865</td>\n",
       "      <td>3212258</td>\n",
       "      <td>226</td>\n",
       "      <td>316015849</td>\n",
       "      <td>9.780000e+12</td>\n",
       "      <td>Stephenie Meyer</td>\n",
       "      <td>2005.0</td>\n",
       "      <td>Twilight</td>\n",
       "      <td>...</td>\n",
       "      <td>3866839</td>\n",
       "      <td>3916824</td>\n",
       "      <td>95009</td>\n",
       "      <td>456191</td>\n",
       "      <td>436802</td>\n",
       "      <td>793319</td>\n",
       "      <td>875073</td>\n",
       "      <td>1355439</td>\n",
       "      <td>https://images.gr-assets.com/books/1361039443m...</td>\n",
       "      <td>https://images.gr-assets.com/books/1361039443s...</td>\n",
       "    </tr>\n",
       "    <tr>\n",
       "      <th>3</th>\n",
       "      <td>4</td>\n",
       "      <td>2657</td>\n",
       "      <td>2657</td>\n",
       "      <td>3275794</td>\n",
       "      <td>487</td>\n",
       "      <td>61120081</td>\n",
       "      <td>9.780000e+12</td>\n",
       "      <td>Harper Lee</td>\n",
       "      <td>1960.0</td>\n",
       "      <td>To Kill a Mockingbird</td>\n",
       "      <td>...</td>\n",
       "      <td>3198671</td>\n",
       "      <td>3340896</td>\n",
       "      <td>72586</td>\n",
       "      <td>60427</td>\n",
       "      <td>117415</td>\n",
       "      <td>446835</td>\n",
       "      <td>1001952</td>\n",
       "      <td>1714267</td>\n",
       "      <td>https://images.gr-assets.com/books/1361975680m...</td>\n",
       "      <td>https://images.gr-assets.com/books/1361975680s...</td>\n",
       "    </tr>\n",
       "    <tr>\n",
       "      <th>4</th>\n",
       "      <td>5</td>\n",
       "      <td>4671</td>\n",
       "      <td>4671</td>\n",
       "      <td>245494</td>\n",
       "      <td>1356</td>\n",
       "      <td>743273567</td>\n",
       "      <td>9.780000e+12</td>\n",
       "      <td>F. Scott Fitzgerald</td>\n",
       "      <td>1925.0</td>\n",
       "      <td>The Great Gatsby</td>\n",
       "      <td>...</td>\n",
       "      <td>2683664</td>\n",
       "      <td>2773745</td>\n",
       "      <td>51992</td>\n",
       "      <td>86236</td>\n",
       "      <td>197621</td>\n",
       "      <td>606158</td>\n",
       "      <td>936012</td>\n",
       "      <td>947718</td>\n",
       "      <td>https://images.gr-assets.com/books/1490528560m...</td>\n",
       "      <td>https://images.gr-assets.com/books/1490528560s...</td>\n",
       "    </tr>\n",
       "  </tbody>\n",
       "</table>\n",
       "<p>5 rows × 23 columns</p>\n",
       "</div>"
      ],
      "text/plain": [
       "   id  book_id  best_book_id  work_id  books_count       isbn        isbn13  \\\n",
       "0   1  2767052       2767052  2792775          272  439023483  9.780000e+12   \n",
       "1   2        3             3  4640799          491  439554934  9.780000e+12   \n",
       "2   3    41865         41865  3212258          226  316015849  9.780000e+12   \n",
       "3   4     2657          2657  3275794          487   61120081  9.780000e+12   \n",
       "4   5     4671          4671   245494         1356  743273567  9.780000e+12   \n",
       "\n",
       "                       authors  original_publication_year  \\\n",
       "0              Suzanne Collins                     2008.0   \n",
       "1  J.K. Rowling, Mary GrandPré                     1997.0   \n",
       "2              Stephenie Meyer                     2005.0   \n",
       "3                   Harper Lee                     1960.0   \n",
       "4          F. Scott Fitzgerald                     1925.0   \n",
       "\n",
       "                             original_title  ... ratings_count  \\\n",
       "0                          The Hunger Games  ...       4780653   \n",
       "1  Harry Potter and the Philosopher's Stone  ...       4602479   \n",
       "2                                  Twilight  ...       3866839   \n",
       "3                     To Kill a Mockingbird  ...       3198671   \n",
       "4                          The Great Gatsby  ...       2683664   \n",
       "\n",
       "  work_ratings_count  work_text_reviews_count  ratings_1  ratings_2  \\\n",
       "0            4942365                   155254      66715     127936   \n",
       "1            4800065                    75867      75504     101676   \n",
       "2            3916824                    95009     456191     436802   \n",
       "3            3340896                    72586      60427     117415   \n",
       "4            2773745                    51992      86236     197621   \n",
       "\n",
       "   ratings_3  ratings_4  ratings_5  \\\n",
       "0     560092    1481305    2706317   \n",
       "1     455024    1156318    3011543   \n",
       "2     793319     875073    1355439   \n",
       "3     446835    1001952    1714267   \n",
       "4     606158     936012     947718   \n",
       "\n",
       "                                           image_url  \\\n",
       "0  https://images.gr-assets.com/books/1447303603m...   \n",
       "1  https://images.gr-assets.com/books/1474154022m...   \n",
       "2  https://images.gr-assets.com/books/1361039443m...   \n",
       "3  https://images.gr-assets.com/books/1361975680m...   \n",
       "4  https://images.gr-assets.com/books/1490528560m...   \n",
       "\n",
       "                                     small_image_url  \n",
       "0  https://images.gr-assets.com/books/1447303603s...  \n",
       "1  https://images.gr-assets.com/books/1474154022s...  \n",
       "2  https://images.gr-assets.com/books/1361039443s...  \n",
       "3  https://images.gr-assets.com/books/1361975680s...  \n",
       "4  https://images.gr-assets.com/books/1490528560s...  \n",
       "\n",
       "[5 rows x 23 columns]"
      ]
     },
     "execution_count": 10,
     "metadata": {},
     "output_type": "execute_result"
    }
   ],
   "source": [
    "df_books.head()"
   ]
  },
  {
   "cell_type": "markdown",
   "metadata": {},
   "source": [
    "#  exploratory data analysis(EDA)"
   ]
  },
  {
   "cell_type": "code",
   "execution_count": 11,
   "metadata": {},
   "outputs": [],
   "source": [
    "# books dataset"
   ]
  },
  {
   "cell_type": "code",
   "execution_count": 12,
   "metadata": {
    "colab": {
     "base_uri": "https://localhost:8080/"
    },
    "id": "rnh0CBSaF2Ze",
    "outputId": "377df470-b461-4ff1-e879-5c4c0d73f1aa"
   },
   "outputs": [
    {
     "data": {
      "text/plain": [
       "0"
      ]
     },
     "execution_count": 12,
     "metadata": {},
     "output_type": "execute_result"
    }
   ],
   "source": [
    "df_books.duplicated().sum()"
   ]
  },
  {
   "cell_type": "code",
   "execution_count": 13,
   "metadata": {
    "colab": {
     "base_uri": "https://localhost:8080/"
    },
    "id": "HZojjutl90WZ",
    "outputId": "4c5ede80-c70f-4d49-de80-2c75cf390e08"
   },
   "outputs": [
    {
     "data": {
      "text/plain": [
       "id                              0\n",
       "book_id                         0\n",
       "best_book_id                    0\n",
       "work_id                         0\n",
       "books_count                     0\n",
       "isbn                          700\n",
       "isbn13                        585\n",
       "authors                         0\n",
       "original_publication_year      21\n",
       "original_title                585\n",
       "title                           0\n",
       "language_code                1084\n",
       "average_rating                  0\n",
       "ratings_count                   0\n",
       "work_ratings_count              0\n",
       "work_text_reviews_count         0\n",
       "ratings_1                       0\n",
       "ratings_2                       0\n",
       "ratings_3                       0\n",
       "ratings_4                       0\n",
       "ratings_5                       0\n",
       "image_url                       0\n",
       "small_image_url                 0\n",
       "dtype: int64"
      ]
     },
     "execution_count": 13,
     "metadata": {},
     "output_type": "execute_result"
    }
   ],
   "source": [
    "df_books.isnull().sum()"
   ]
  },
  {
   "cell_type": "code",
   "execution_count": 14,
   "metadata": {},
   "outputs": [
    {
     "data": {
      "text/plain": [
       "2017.0"
      ]
     },
     "execution_count": 14,
     "metadata": {},
     "output_type": "execute_result"
    }
   ],
   "source": [
    "df_books['original_publication_year'].max()"
   ]
  },
  {
   "cell_type": "code",
   "execution_count": 15,
   "metadata": {
    "scrolled": true
   },
   "outputs": [
    {
     "data": {
      "text/html": [
       "<div>\n",
       "<style scoped>\n",
       "    .dataframe tbody tr th:only-of-type {\n",
       "        vertical-align: middle;\n",
       "    }\n",
       "\n",
       "    .dataframe tbody tr th {\n",
       "        vertical-align: top;\n",
       "    }\n",
       "\n",
       "    .dataframe thead th {\n",
       "        text-align: right;\n",
       "    }\n",
       "</style>\n",
       "<table border=\"1\" class=\"dataframe\">\n",
       "  <thead>\n",
       "    <tr style=\"text-align: right;\">\n",
       "      <th></th>\n",
       "      <th>id</th>\n",
       "      <th>book_id</th>\n",
       "      <th>best_book_id</th>\n",
       "      <th>work_id</th>\n",
       "      <th>books_count</th>\n",
       "      <th>isbn</th>\n",
       "      <th>isbn13</th>\n",
       "      <th>authors</th>\n",
       "      <th>original_publication_year</th>\n",
       "      <th>original_title</th>\n",
       "      <th>...</th>\n",
       "      <th>ratings_count</th>\n",
       "      <th>work_ratings_count</th>\n",
       "      <th>work_text_reviews_count</th>\n",
       "      <th>ratings_1</th>\n",
       "      <th>ratings_2</th>\n",
       "      <th>ratings_3</th>\n",
       "      <th>ratings_4</th>\n",
       "      <th>ratings_5</th>\n",
       "      <th>image_url</th>\n",
       "      <th>small_image_url</th>\n",
       "    </tr>\n",
       "  </thead>\n",
       "  <tbody>\n",
       "    <tr>\n",
       "      <th>5883</th>\n",
       "      <td>5884</td>\n",
       "      <td>30831912</td>\n",
       "      <td>30831912</td>\n",
       "      <td>51396954</td>\n",
       "      <td>38</td>\n",
       "      <td>None</td>\n",
       "      <td>NaN</td>\n",
       "      <td>Neil Gaiman</td>\n",
       "      <td>2017.0</td>\n",
       "      <td>Norse Mythology</td>\n",
       "      <td>...</td>\n",
       "      <td>22266</td>\n",
       "      <td>39250</td>\n",
       "      <td>5731</td>\n",
       "      <td>179</td>\n",
       "      <td>974</td>\n",
       "      <td>6943</td>\n",
       "      <td>17019</td>\n",
       "      <td>14135</td>\n",
       "      <td>https://images.gr-assets.com/books/1473864212m...</td>\n",
       "      <td>https://images.gr-assets.com/books/1473864212s...</td>\n",
       "    </tr>\n",
       "    <tr>\n",
       "      <th>7239</th>\n",
       "      <td>7240</td>\n",
       "      <td>27824826</td>\n",
       "      <td>27824826</td>\n",
       "      <td>47804789</td>\n",
       "      <td>45</td>\n",
       "      <td>None</td>\n",
       "      <td>NaN</td>\n",
       "      <td>Jane Harper</td>\n",
       "      <td>2017.0</td>\n",
       "      <td>The Dry</td>\n",
       "      <td>...</td>\n",
       "      <td>19843</td>\n",
       "      <td>27901</td>\n",
       "      <td>3682</td>\n",
       "      <td>257</td>\n",
       "      <td>705</td>\n",
       "      <td>4791</td>\n",
       "      <td>13128</td>\n",
       "      <td>9020</td>\n",
       "      <td>https://images.gr-assets.com/books/1456113132m...</td>\n",
       "      <td>https://images.gr-assets.com/books/1456113132s...</td>\n",
       "    </tr>\n",
       "    <tr>\n",
       "      <th>7372</th>\n",
       "      <td>7373</td>\n",
       "      <td>23766634</td>\n",
       "      <td>23766634</td>\n",
       "      <td>25126752</td>\n",
       "      <td>18</td>\n",
       "      <td>1408857901</td>\n",
       "      <td>9.780000e+12</td>\n",
       "      <td>Sarah J. Maas</td>\n",
       "      <td>2017.0</td>\n",
       "      <td>A Court of Wings and Ruin</td>\n",
       "      <td>...</td>\n",
       "      <td>55037</td>\n",
       "      <td>68830</td>\n",
       "      <td>12210</td>\n",
       "      <td>463</td>\n",
       "      <td>1289</td>\n",
       "      <td>5123</td>\n",
       "      <td>15585</td>\n",
       "      <td>46370</td>\n",
       "      <td>https://images.gr-assets.com/books/1485528243m...</td>\n",
       "      <td>https://images.gr-assets.com/books/1485528243s...</td>\n",
       "    </tr>\n",
       "    <tr>\n",
       "      <th>7447</th>\n",
       "      <td>7448</td>\n",
       "      <td>30226723</td>\n",
       "      <td>30226723</td>\n",
       "      <td>42721001</td>\n",
       "      <td>11</td>\n",
       "      <td>62310712</td>\n",
       "      <td>9.780000e+12</td>\n",
       "      <td>Victoria Aveyard</td>\n",
       "      <td>2017.0</td>\n",
       "      <td>King's Cage</td>\n",
       "      <td>...</td>\n",
       "      <td>30692</td>\n",
       "      <td>36807</td>\n",
       "      <td>5193</td>\n",
       "      <td>683</td>\n",
       "      <td>1887</td>\n",
       "      <td>6895</td>\n",
       "      <td>13675</td>\n",
       "      <td>13667</td>\n",
       "      <td>https://images.gr-assets.com/books/1467121158m...</td>\n",
       "      <td>https://images.gr-assets.com/books/1467121158s...</td>\n",
       "    </tr>\n",
       "    <tr>\n",
       "      <th>7466</th>\n",
       "      <td>7467</td>\n",
       "      <td>28016509</td>\n",
       "      <td>28016509</td>\n",
       "      <td>48027180</td>\n",
       "      <td>63</td>\n",
       "      <td>425285049</td>\n",
       "      <td>9.780000e+12</td>\n",
       "      <td>J.P. Delaney</td>\n",
       "      <td>2017.0</td>\n",
       "      <td>The Girl Before</td>\n",
       "      <td>...</td>\n",
       "      <td>23500</td>\n",
       "      <td>34415</td>\n",
       "      <td>4477</td>\n",
       "      <td>829</td>\n",
       "      <td>2691</td>\n",
       "      <td>9883</td>\n",
       "      <td>13716</td>\n",
       "      <td>7296</td>\n",
       "      <td>https://images.gr-assets.com/books/1485972587m...</td>\n",
       "      <td>https://images.gr-assets.com/books/1485972587s...</td>\n",
       "    </tr>\n",
       "    <tr>\n",
       "      <th>7559</th>\n",
       "      <td>7560</td>\n",
       "      <td>27883214</td>\n",
       "      <td>27883214</td>\n",
       "      <td>45697227</td>\n",
       "      <td>51</td>\n",
       "      <td>1250095255</td>\n",
       "      <td>9.780000e+12</td>\n",
       "      <td>Stephanie Garber</td>\n",
       "      <td>2017.0</td>\n",
       "      <td>Caraval</td>\n",
       "      <td>...</td>\n",
       "      <td>30975</td>\n",
       "      <td>35821</td>\n",
       "      <td>8360</td>\n",
       "      <td>831</td>\n",
       "      <td>2531</td>\n",
       "      <td>7001</td>\n",
       "      <td>12105</td>\n",
       "      <td>13353</td>\n",
       "      <td>https://images.gr-assets.com/books/1465563623m...</td>\n",
       "      <td>https://images.gr-assets.com/books/1465563623s...</td>\n",
       "    </tr>\n",
       "    <tr>\n",
       "      <th>8281</th>\n",
       "      <td>8282</td>\n",
       "      <td>29430788</td>\n",
       "      <td>29430788</td>\n",
       "      <td>49695344</td>\n",
       "      <td>14</td>\n",
       "      <td>1476799202</td>\n",
       "      <td>9.780000e+12</td>\n",
       "      <td>Alice Hoffman</td>\n",
       "      <td>2017.0</td>\n",
       "      <td>None</td>\n",
       "      <td>...</td>\n",
       "      <td>12442</td>\n",
       "      <td>15377</td>\n",
       "      <td>2481</td>\n",
       "      <td>159</td>\n",
       "      <td>533</td>\n",
       "      <td>2807</td>\n",
       "      <td>7173</td>\n",
       "      <td>4705</td>\n",
       "      <td>https://images.gr-assets.com/books/1478771334m...</td>\n",
       "      <td>https://images.gr-assets.com/books/1478771334s...</td>\n",
       "    </tr>\n",
       "    <tr>\n",
       "      <th>8684</th>\n",
       "      <td>8685</td>\n",
       "      <td>28965131</td>\n",
       "      <td>28965131</td>\n",
       "      <td>49193186</td>\n",
       "      <td>30</td>\n",
       "      <td>125011117X</td>\n",
       "      <td>9.780000e+12</td>\n",
       "      <td>Sarah Pinborough</td>\n",
       "      <td>2017.0</td>\n",
       "      <td>Behind Her Eyes</td>\n",
       "      <td>...</td>\n",
       "      <td>17944</td>\n",
       "      <td>21613</td>\n",
       "      <td>5003</td>\n",
       "      <td>658</td>\n",
       "      <td>1876</td>\n",
       "      <td>5082</td>\n",
       "      <td>8228</td>\n",
       "      <td>5769</td>\n",
       "      <td>https://images.gr-assets.com/books/1485279813m...</td>\n",
       "      <td>https://images.gr-assets.com/books/1485279813s...</td>\n",
       "    </tr>\n",
       "    <tr>\n",
       "      <th>9391</th>\n",
       "      <td>9392</td>\n",
       "      <td>29906980</td>\n",
       "      <td>29906980</td>\n",
       "      <td>50281866</td>\n",
       "      <td>2</td>\n",
       "      <td>812995341</td>\n",
       "      <td>9.780000e+12</td>\n",
       "      <td>George Saunders</td>\n",
       "      <td>2017.0</td>\n",
       "      <td>Lincoln in the Bardo</td>\n",
       "      <td>...</td>\n",
       "      <td>20373</td>\n",
       "      <td>24013</td>\n",
       "      <td>5354</td>\n",
       "      <td>996</td>\n",
       "      <td>1809</td>\n",
       "      <td>4186</td>\n",
       "      <td>7887</td>\n",
       "      <td>9135</td>\n",
       "      <td>https://images.gr-assets.com/books/1492130850m...</td>\n",
       "      <td>https://images.gr-assets.com/books/1492130850s...</td>\n",
       "    </tr>\n",
       "    <tr>\n",
       "      <th>9568</th>\n",
       "      <td>9569</td>\n",
       "      <td>32075671</td>\n",
       "      <td>32075671</td>\n",
       "      <td>49638190</td>\n",
       "      <td>36</td>\n",
       "      <td>62498533</td>\n",
       "      <td>9.780000e+12</td>\n",
       "      <td>Angie Thomas</td>\n",
       "      <td>2017.0</td>\n",
       "      <td>The Hate U Give</td>\n",
       "      <td>...</td>\n",
       "      <td>32610</td>\n",
       "      <td>38333</td>\n",
       "      <td>9038</td>\n",
       "      <td>208</td>\n",
       "      <td>321</td>\n",
       "      <td>1814</td>\n",
       "      <td>9207</td>\n",
       "      <td>26783</td>\n",
       "      <td>https://images.gr-assets.com/books/1476284759m...</td>\n",
       "      <td>https://images.gr-assets.com/books/1476284759s...</td>\n",
       "    </tr>\n",
       "    <tr>\n",
       "      <th>9579</th>\n",
       "      <td>9580</td>\n",
       "      <td>32848471</td>\n",
       "      <td>32848471</td>\n",
       "      <td>53450421</td>\n",
       "      <td>8</td>\n",
       "      <td>1682309819</td>\n",
       "      <td>9.780000e+12</td>\n",
       "      <td>Vi Keeland</td>\n",
       "      <td>2017.0</td>\n",
       "      <td>None</td>\n",
       "      <td>...</td>\n",
       "      <td>11310</td>\n",
       "      <td>16367</td>\n",
       "      <td>1995</td>\n",
       "      <td>98</td>\n",
       "      <td>281</td>\n",
       "      <td>1774</td>\n",
       "      <td>6037</td>\n",
       "      <td>8177</td>\n",
       "      <td>https://images.gr-assets.com/books/1479387807m...</td>\n",
       "      <td>https://images.gr-assets.com/books/1479387807s...</td>\n",
       "    </tr>\n",
       "  </tbody>\n",
       "</table>\n",
       "<p>11 rows × 23 columns</p>\n",
       "</div>"
      ],
      "text/plain": [
       "        id   book_id  best_book_id   work_id  books_count        isbn  \\\n",
       "5883  5884  30831912      30831912  51396954           38        None   \n",
       "7239  7240  27824826      27824826  47804789           45        None   \n",
       "7372  7373  23766634      23766634  25126752           18  1408857901   \n",
       "7447  7448  30226723      30226723  42721001           11    62310712   \n",
       "7466  7467  28016509      28016509  48027180           63   425285049   \n",
       "7559  7560  27883214      27883214  45697227           51  1250095255   \n",
       "8281  8282  29430788      29430788  49695344           14  1476799202   \n",
       "8684  8685  28965131      28965131  49193186           30  125011117X   \n",
       "9391  9392  29906980      29906980  50281866            2   812995341   \n",
       "9568  9569  32075671      32075671  49638190           36    62498533   \n",
       "9579  9580  32848471      32848471  53450421            8  1682309819   \n",
       "\n",
       "            isbn13           authors  original_publication_year  \\\n",
       "5883           NaN       Neil Gaiman                     2017.0   \n",
       "7239           NaN       Jane Harper                     2017.0   \n",
       "7372  9.780000e+12     Sarah J. Maas                     2017.0   \n",
       "7447  9.780000e+12  Victoria Aveyard                     2017.0   \n",
       "7466  9.780000e+12      J.P. Delaney                     2017.0   \n",
       "7559  9.780000e+12  Stephanie Garber                     2017.0   \n",
       "8281  9.780000e+12     Alice Hoffman                     2017.0   \n",
       "8684  9.780000e+12  Sarah Pinborough                     2017.0   \n",
       "9391  9.780000e+12   George Saunders                     2017.0   \n",
       "9568  9.780000e+12      Angie Thomas                     2017.0   \n",
       "9579  9.780000e+12        Vi Keeland                     2017.0   \n",
       "\n",
       "                 original_title  ... ratings_count work_ratings_count  \\\n",
       "5883            Norse Mythology  ...         22266              39250   \n",
       "7239                    The Dry  ...         19843              27901   \n",
       "7372  A Court of Wings and Ruin  ...         55037              68830   \n",
       "7447                King's Cage  ...         30692              36807   \n",
       "7466            The Girl Before  ...         23500              34415   \n",
       "7559                    Caraval  ...         30975              35821   \n",
       "8281                       None  ...         12442              15377   \n",
       "8684            Behind Her Eyes  ...         17944              21613   \n",
       "9391       Lincoln in the Bardo  ...         20373              24013   \n",
       "9568            The Hate U Give  ...         32610              38333   \n",
       "9579                       None  ...         11310              16367   \n",
       "\n",
       "      work_text_reviews_count  ratings_1  ratings_2  ratings_3  ratings_4  \\\n",
       "5883                     5731        179        974       6943      17019   \n",
       "7239                     3682        257        705       4791      13128   \n",
       "7372                    12210        463       1289       5123      15585   \n",
       "7447                     5193        683       1887       6895      13675   \n",
       "7466                     4477        829       2691       9883      13716   \n",
       "7559                     8360        831       2531       7001      12105   \n",
       "8281                     2481        159        533       2807       7173   \n",
       "8684                     5003        658       1876       5082       8228   \n",
       "9391                     5354        996       1809       4186       7887   \n",
       "9568                     9038        208        321       1814       9207   \n",
       "9579                     1995         98        281       1774       6037   \n",
       "\n",
       "      ratings_5                                          image_url  \\\n",
       "5883      14135  https://images.gr-assets.com/books/1473864212m...   \n",
       "7239       9020  https://images.gr-assets.com/books/1456113132m...   \n",
       "7372      46370  https://images.gr-assets.com/books/1485528243m...   \n",
       "7447      13667  https://images.gr-assets.com/books/1467121158m...   \n",
       "7466       7296  https://images.gr-assets.com/books/1485972587m...   \n",
       "7559      13353  https://images.gr-assets.com/books/1465563623m...   \n",
       "8281       4705  https://images.gr-assets.com/books/1478771334m...   \n",
       "8684       5769  https://images.gr-assets.com/books/1485279813m...   \n",
       "9391       9135  https://images.gr-assets.com/books/1492130850m...   \n",
       "9568      26783  https://images.gr-assets.com/books/1476284759m...   \n",
       "9579       8177  https://images.gr-assets.com/books/1479387807m...   \n",
       "\n",
       "                                        small_image_url  \n",
       "5883  https://images.gr-assets.com/books/1473864212s...  \n",
       "7239  https://images.gr-assets.com/books/1456113132s...  \n",
       "7372  https://images.gr-assets.com/books/1485528243s...  \n",
       "7447  https://images.gr-assets.com/books/1467121158s...  \n",
       "7466  https://images.gr-assets.com/books/1485972587s...  \n",
       "7559  https://images.gr-assets.com/books/1465563623s...  \n",
       "8281  https://images.gr-assets.com/books/1478771334s...  \n",
       "8684  https://images.gr-assets.com/books/1485279813s...  \n",
       "9391  https://images.gr-assets.com/books/1492130850s...  \n",
       "9568  https://images.gr-assets.com/books/1476284759s...  \n",
       "9579  https://images.gr-assets.com/books/1479387807s...  \n",
       "\n",
       "[11 rows x 23 columns]"
      ]
     },
     "execution_count": 15,
     "metadata": {},
     "output_type": "execute_result"
    }
   ],
   "source": [
    "df_books[df_books['original_publication_year'] == df_books['original_publication_year'].max()]"
   ]
  },
  {
   "cell_type": "code",
   "execution_count": 16,
   "metadata": {},
   "outputs": [
    {
     "data": {
      "text/plain": [
       "-1750.0"
      ]
     },
     "execution_count": 16,
     "metadata": {},
     "output_type": "execute_result"
    }
   ],
   "source": [
    "df_books['original_publication_year'].min()"
   ]
  },
  {
   "cell_type": "code",
   "execution_count": 17,
   "metadata": {},
   "outputs": [
    {
     "data": {
      "text/html": [
       "<div>\n",
       "<style scoped>\n",
       "    .dataframe tbody tr th:only-of-type {\n",
       "        vertical-align: middle;\n",
       "    }\n",
       "\n",
       "    .dataframe tbody tr th {\n",
       "        vertical-align: top;\n",
       "    }\n",
       "\n",
       "    .dataframe thead th {\n",
       "        text-align: right;\n",
       "    }\n",
       "</style>\n",
       "<table border=\"1\" class=\"dataframe\">\n",
       "  <thead>\n",
       "    <tr style=\"text-align: right;\">\n",
       "      <th></th>\n",
       "      <th>id</th>\n",
       "      <th>book_id</th>\n",
       "      <th>best_book_id</th>\n",
       "      <th>work_id</th>\n",
       "      <th>books_count</th>\n",
       "      <th>isbn</th>\n",
       "      <th>isbn13</th>\n",
       "      <th>authors</th>\n",
       "      <th>original_publication_year</th>\n",
       "      <th>original_title</th>\n",
       "      <th>...</th>\n",
       "      <th>ratings_count</th>\n",
       "      <th>work_ratings_count</th>\n",
       "      <th>work_text_reviews_count</th>\n",
       "      <th>ratings_1</th>\n",
       "      <th>ratings_2</th>\n",
       "      <th>ratings_3</th>\n",
       "      <th>ratings_4</th>\n",
       "      <th>ratings_5</th>\n",
       "      <th>image_url</th>\n",
       "      <th>small_image_url</th>\n",
       "    </tr>\n",
       "  </thead>\n",
       "  <tbody>\n",
       "    <tr>\n",
       "      <th>2075</th>\n",
       "      <td>2076</td>\n",
       "      <td>19351</td>\n",
       "      <td>19351</td>\n",
       "      <td>3802528</td>\n",
       "      <td>266</td>\n",
       "      <td>141026286</td>\n",
       "      <td>9.780000e+12</td>\n",
       "      <td>Anonymous, N.K. Sandars</td>\n",
       "      <td>-1750.0</td>\n",
       "      <td>Shūtur eli sharrī</td>\n",
       "      <td>...</td>\n",
       "      <td>44345</td>\n",
       "      <td>55856</td>\n",
       "      <td>2247</td>\n",
       "      <td>1551</td>\n",
       "      <td>5850</td>\n",
       "      <td>17627</td>\n",
       "      <td>17485</td>\n",
       "      <td>13343</td>\n",
       "      <td>https://s.gr-assets.com/assets/nophoto/book/11...</td>\n",
       "      <td>https://s.gr-assets.com/assets/nophoto/book/50...</td>\n",
       "    </tr>\n",
       "  </tbody>\n",
       "</table>\n",
       "<p>1 rows × 23 columns</p>\n",
       "</div>"
      ],
      "text/plain": [
       "        id  book_id  best_book_id  work_id  books_count       isbn  \\\n",
       "2075  2076    19351         19351  3802528          266  141026286   \n",
       "\n",
       "            isbn13                  authors  original_publication_year  \\\n",
       "2075  9.780000e+12  Anonymous, N.K. Sandars                    -1750.0   \n",
       "\n",
       "         original_title  ... ratings_count work_ratings_count  \\\n",
       "2075  Shūtur eli sharrī  ...         44345              55856   \n",
       "\n",
       "      work_text_reviews_count  ratings_1  ratings_2  ratings_3  ratings_4  \\\n",
       "2075                     2247       1551       5850      17627      17485   \n",
       "\n",
       "      ratings_5                                          image_url  \\\n",
       "2075      13343  https://s.gr-assets.com/assets/nophoto/book/11...   \n",
       "\n",
       "                                        small_image_url  \n",
       "2075  https://s.gr-assets.com/assets/nophoto/book/50...  \n",
       "\n",
       "[1 rows x 23 columns]"
      ]
     },
     "execution_count": 17,
     "metadata": {},
     "output_type": "execute_result"
    }
   ],
   "source": [
    "df_books[df_books['original_publication_year'] == df_books['original_publication_year'].min()]"
   ]
  },
  {
   "cell_type": "code",
   "execution_count": 18,
   "metadata": {
    "colab": {
     "base_uri": "https://localhost:8080/"
    },
    "id": "l71YcF2cIGYx",
    "outputId": "152c35b0-7ecd-4328-b815-1026a42209b1"
   },
   "outputs": [
    {
     "data": {
      "text/plain": [
       "2012.0    568\n",
       "2011.0    556\n",
       "2013.0    518\n",
       "2010.0    473\n",
       "2014.0    437\n",
       "         ... \n",
       "180.0       1\n",
       "800.0       1\n",
       "1898.0      1\n",
       "1818.0      1\n",
       "1825.0      1\n",
       "Name: original_publication_year, Length: 293, dtype: int64"
      ]
     },
     "execution_count": 18,
     "metadata": {},
     "output_type": "execute_result"
    }
   ],
   "source": [
    "df_books['original_publication_year'].value_counts()"
   ]
  },
  {
   "cell_type": "code",
   "execution_count": 19,
   "metadata": {},
   "outputs": [
    {
     "data": {
      "text/plain": [
       "9964"
      ]
     },
     "execution_count": 19,
     "metadata": {},
     "output_type": "execute_result"
    }
   ],
   "source": [
    "df_books['title'].nunique()"
   ]
  },
  {
   "cell_type": "code",
   "execution_count": 20,
   "metadata": {},
   "outputs": [
    {
     "data": {
      "text/plain": [
       "10000"
      ]
     },
     "execution_count": 20,
     "metadata": {},
     "output_type": "execute_result"
    }
   ],
   "source": [
    "df_books['book_id'].nunique()"
   ]
  },
  {
   "cell_type": "code",
   "execution_count": 21,
   "metadata": {},
   "outputs": [
    {
     "data": {
      "text/plain": [
       "36"
      ]
     },
     "execution_count": 21,
     "metadata": {},
     "output_type": "execute_result"
    }
   ],
   "source": [
    "# number of book (names are same but book_id's are different)\n",
    "10000-9964"
   ]
  },
  {
   "cell_type": "code",
   "execution_count": 22,
   "metadata": {},
   "outputs": [],
   "source": [
    "#  ratings dataset"
   ]
  },
  {
   "cell_type": "code",
   "execution_count": 23,
   "metadata": {
    "id": "GAvczG7-ndxN"
   },
   "outputs": [
    {
     "name": "stderr",
     "output_type": "stream",
     "text": [
      "                                                                                \r"
     ]
    }
   ],
   "source": [
    "ratings = spark.read.csv('goodbooks/ratings.csv',inferSchema=True, header=True)"
   ]
  },
  {
   "cell_type": "code",
   "execution_count": 24,
   "metadata": {
    "colab": {
     "base_uri": "https://localhost:8080/"
    },
    "id": "tINrXB2QIudI",
    "outputId": "c4553064-c1ad-4fa9-8c04-048dcbbd8603"
   },
   "outputs": [
    {
     "name": "stdout",
     "output_type": "stream",
     "text": [
      "root\n",
      " |-- book_id: integer (nullable = true)\n",
      " |-- user_id: integer (nullable = true)\n",
      " |-- rating: integer (nullable = true)\n",
      "\n"
     ]
    }
   ],
   "source": [
    "ratings.printSchema()"
   ]
  },
  {
   "cell_type": "code",
   "execution_count": 25,
   "metadata": {
    "colab": {
     "base_uri": "https://localhost:8080/",
     "height": 341
    },
    "id": "P-Pf7mjOI1g6",
    "outputId": "ff91c6d6-a25f-4e4b-d86a-587b7558730a"
   },
   "outputs": [
    {
     "name": "stderr",
     "output_type": "stream",
     "text": [
      "\r",
      "[Stage 5:>                                                          (0 + 3) / 3]\r",
      "\r",
      "                                                                                \r"
     ]
    }
   ],
   "source": [
    "df_ratings = ratings.toPandas()"
   ]
  },
  {
   "cell_type": "code",
   "execution_count": 26,
   "metadata": {
    "id": "xN45TiSJI-wW"
   },
   "outputs": [
    {
     "name": "stdout",
     "output_type": "stream",
     "text": [
      "<class 'pandas.core.frame.DataFrame'>\n",
      "RangeIndex: 981756 entries, 0 to 981755\n",
      "Data columns (total 3 columns):\n",
      " #   Column   Non-Null Count   Dtype\n",
      "---  ------   --------------   -----\n",
      " 0   book_id  981756 non-null  int32\n",
      " 1   user_id  981756 non-null  int32\n",
      " 2   rating   981756 non-null  int32\n",
      "dtypes: int32(3)\n",
      "memory usage: 11.2 MB\n"
     ]
    }
   ],
   "source": [
    "df_ratings.info()"
   ]
  },
  {
   "cell_type": "code",
   "execution_count": 27,
   "metadata": {},
   "outputs": [
    {
     "data": {
      "text/html": [
       "<div>\n",
       "<style scoped>\n",
       "    .dataframe tbody tr th:only-of-type {\n",
       "        vertical-align: middle;\n",
       "    }\n",
       "\n",
       "    .dataframe tbody tr th {\n",
       "        vertical-align: top;\n",
       "    }\n",
       "\n",
       "    .dataframe thead th {\n",
       "        text-align: right;\n",
       "    }\n",
       "</style>\n",
       "<table border=\"1\" class=\"dataframe\">\n",
       "  <thead>\n",
       "    <tr style=\"text-align: right;\">\n",
       "      <th></th>\n",
       "      <th>book_id</th>\n",
       "      <th>user_id</th>\n",
       "      <th>rating</th>\n",
       "    </tr>\n",
       "  </thead>\n",
       "  <tbody>\n",
       "    <tr>\n",
       "      <th>count</th>\n",
       "      <td>981756.000000</td>\n",
       "      <td>981756.000000</td>\n",
       "      <td>981756.000000</td>\n",
       "    </tr>\n",
       "    <tr>\n",
       "      <th>mean</th>\n",
       "      <td>4943.275636</td>\n",
       "      <td>25616.759933</td>\n",
       "      <td>3.856534</td>\n",
       "    </tr>\n",
       "    <tr>\n",
       "      <th>std</th>\n",
       "      <td>2873.207415</td>\n",
       "      <td>15228.338826</td>\n",
       "      <td>0.983941</td>\n",
       "    </tr>\n",
       "    <tr>\n",
       "      <th>min</th>\n",
       "      <td>1.000000</td>\n",
       "      <td>1.000000</td>\n",
       "      <td>1.000000</td>\n",
       "    </tr>\n",
       "    <tr>\n",
       "      <th>25%</th>\n",
       "      <td>2457.000000</td>\n",
       "      <td>12372.000000</td>\n",
       "      <td>3.000000</td>\n",
       "    </tr>\n",
       "    <tr>\n",
       "      <th>50%</th>\n",
       "      <td>4921.000000</td>\n",
       "      <td>25077.000000</td>\n",
       "      <td>4.000000</td>\n",
       "    </tr>\n",
       "    <tr>\n",
       "      <th>75%</th>\n",
       "      <td>7414.000000</td>\n",
       "      <td>38572.000000</td>\n",
       "      <td>5.000000</td>\n",
       "    </tr>\n",
       "    <tr>\n",
       "      <th>max</th>\n",
       "      <td>10000.000000</td>\n",
       "      <td>53424.000000</td>\n",
       "      <td>5.000000</td>\n",
       "    </tr>\n",
       "  </tbody>\n",
       "</table>\n",
       "</div>"
      ],
      "text/plain": [
       "             book_id        user_id         rating\n",
       "count  981756.000000  981756.000000  981756.000000\n",
       "mean     4943.275636   25616.759933       3.856534\n",
       "std      2873.207415   15228.338826       0.983941\n",
       "min         1.000000       1.000000       1.000000\n",
       "25%      2457.000000   12372.000000       3.000000\n",
       "50%      4921.000000   25077.000000       4.000000\n",
       "75%      7414.000000   38572.000000       5.000000\n",
       "max     10000.000000   53424.000000       5.000000"
      ]
     },
     "execution_count": 27,
     "metadata": {},
     "output_type": "execute_result"
    }
   ],
   "source": [
    "df_ratings.describe()"
   ]
  },
  {
   "cell_type": "code",
   "execution_count": 28,
   "metadata": {
    "id": "SXJ71mGR_1zB"
   },
   "outputs": [
    {
     "data": {
      "text/plain": [
       "1644"
      ]
     },
     "execution_count": 28,
     "metadata": {},
     "output_type": "execute_result"
    }
   ],
   "source": [
    "df_ratings.duplicated().sum()"
   ]
  },
  {
   "cell_type": "code",
   "execution_count": 29,
   "metadata": {},
   "outputs": [],
   "source": [
    "df_ratings = df_ratings.drop_duplicates()"
   ]
  },
  {
   "cell_type": "code",
   "execution_count": 30,
   "metadata": {
    "id": "k7B9rCnX_4AK"
   },
   "outputs": [
    {
     "data": {
      "text/plain": [
       "book_id    0\n",
       "user_id    0\n",
       "rating     0\n",
       "dtype: int64"
      ]
     },
     "execution_count": 30,
     "metadata": {},
     "output_type": "execute_result"
    }
   ],
   "source": [
    "df_ratings.isnull().sum()"
   ]
  },
  {
   "cell_type": "code",
   "execution_count": 31,
   "metadata": {},
   "outputs": [
    {
     "data": {
      "text/plain": [
       "(980112, 3)"
      ]
     },
     "execution_count": 31,
     "metadata": {},
     "output_type": "execute_result"
    }
   ],
   "source": [
    "df_ratings.shape"
   ]
  },
  {
   "cell_type": "code",
   "execution_count": 32,
   "metadata": {},
   "outputs": [],
   "source": [
    "# Group by and create basic additional columns\n",
    "\n",
    "user_groupby = df_ratings.groupby(\"user_id\")\n",
    "book_groupby = df_ratings.groupby(\"book_id\")\n",
    "average_user_rating = user_groupby[\"rating\"].mean()\n",
    "number_of_ratings_by_user = user_groupby[\"rating\"].count()\n",
    "average_book_rating = book_groupby[\"rating\"].mean()\n",
    "number_of_book_ratings = book_groupby[\"rating\"].count()\n",
    "\n",
    "average_user_rating.name = \"avg_rating\"\n",
    "number_of_ratings_by_user.name = \"N_ratings\"\n",
    "average_book_rating.name = \"avg_rating\"\n",
    "number_of_book_ratings.name = \"N_ratings\""
   ]
  },
  {
   "cell_type": "code",
   "execution_count": 33,
   "metadata": {},
   "outputs": [
    {
     "name": "stdout",
     "output_type": "stream",
     "text": [
      "user_id\n",
      "1        3.666667\n",
      "2        4.333333\n",
      "3        1.000000\n",
      "4        4.000000\n",
      "5        4.200000\n",
      "           ...   \n",
      "53420    3.333333\n",
      "53421    5.000000\n",
      "53422    4.166667\n",
      "53423    5.000000\n",
      "53424    4.250000\n",
      "Name: avg_rating, Length: 53424, dtype: float64\n"
     ]
    }
   ],
   "source": [
    "print(average_user_rating)"
   ]
  },
  {
   "cell_type": "code",
   "execution_count": 34,
   "metadata": {},
   "outputs": [
    {
     "name": "stdout",
     "output_type": "stream",
     "text": [
      "user_id\n",
      "1         3\n",
      "2         3\n",
      "3         2\n",
      "4         3\n",
      "5         5\n",
      "         ..\n",
      "53420     6\n",
      "53421     8\n",
      "53422    18\n",
      "53423     2\n",
      "53424    16\n",
      "Name: N_ratings, Length: 53424, dtype: int64\n"
     ]
    }
   ],
   "source": [
    "print(number_of_ratings_by_user)"
   ]
  },
  {
   "cell_type": "code",
   "execution_count": 35,
   "metadata": {},
   "outputs": [
    {
     "data": {
      "text/plain": [
       "2      8302\n",
       "3      5438\n",
       "4      3976\n",
       "5      3219\n",
       "6      2464\n",
       "       ... \n",
       "150       2\n",
       "200       2\n",
       "197       2\n",
       "171       2\n",
       "158       1\n",
       "Name: N_ratings, Length: 199, dtype: int64"
      ]
     },
     "execution_count": 35,
     "metadata": {},
     "output_type": "execute_result"
    }
   ],
   "source": [
    "number_of_ratings_by_user.value_counts()"
   ]
  },
  {
   "cell_type": "code",
   "execution_count": 36,
   "metadata": {},
   "outputs": [
    {
     "name": "stdout",
     "output_type": "stream",
     "text": [
      "Avg num ratings per book: \n"
     ]
    },
    {
     "name": "stderr",
     "output_type": "stream",
     "text": [
      "                                                                                \r"
     ]
    },
    {
     "name": "stdout",
     "output_type": "stream",
     "text": [
      "+----------+\n",
      "|avg(count)|\n",
      "+----------+\n",
      "|   98.1756|\n",
      "+----------+\n",
      "\n",
      "Avg num ratings per user: \n"
     ]
    },
    {
     "name": "stderr",
     "output_type": "stream",
     "text": [
      "\r",
      "[Stage 12:>                                                         (0 + 3) / 3]\r"
     ]
    },
    {
     "name": "stdout",
     "output_type": "stream",
     "text": [
      "+------------------+\n",
      "|        avg(count)|\n",
      "+------------------+\n",
      "|18.376684636118597|\n",
      "+------------------+\n",
      "\n"
     ]
    },
    {
     "name": "stderr",
     "output_type": "stream",
     "text": [
      "\r",
      "                                                                                \r"
     ]
    }
   ],
   "source": [
    "# Avg num ratings per book\n",
    "print(\"Avg num ratings per book: \")\n",
    "ratings.groupBy(\"book_id\").count().select(avg(\"count\")).show()\n",
    "\n",
    "# Avg num ratings per users\n",
    "print(\"Avg num ratings per user: \")\n",
    "ratings.groupBy(\"user_id\").count().select(avg(\"count\")).show()"
   ]
  },
  {
   "cell_type": "code",
   "execution_count": 37,
   "metadata": {},
   "outputs": [
    {
     "name": "stderr",
     "output_type": "stream",
     "text": [
      "[Stage 27:>                                                         (0 + 3) / 3]\r"
     ]
    },
    {
     "name": "stdout",
     "output_type": "stream",
     "text": [
      "The ratings dataframe is  99.82% empty.\n"
     ]
    },
    {
     "name": "stderr",
     "output_type": "stream",
     "text": [
      "\r",
      "                                                                                \r"
     ]
    }
   ],
   "source": [
    "# calculate sparsity\n",
    "\n",
    "numerator = ratings.select(\"rating\").count()\n",
    "num_users = ratings.select(\"user_id\").distinct().count()\n",
    "num_books = ratings.select(\"book_id\").distinct().count()\n",
    "denominator = num_users * num_books\n",
    "sparsity = (1.0 - (numerator * 1.0)/denominator) * 100\n",
    "\n",
    "print(\"The ratings dataframe is \", \"%.2f\" % sparsity + \"% empty.\")"
   ]
  },
  {
   "cell_type": "code",
   "execution_count": 38,
   "metadata": {},
   "outputs": [
    {
     "name": "stdout",
     "output_type": "stream",
     "text": [
      "Min number of ratings by user:  1\n",
      "Max number of ratings by user:  200\n"
     ]
    }
   ],
   "source": [
    "print(\"Min number of ratings by user: \", number_of_ratings_by_user.min())\n",
    "print(\"Max number of ratings by user: \", number_of_ratings_by_user.max())"
   ]
  },
  {
   "cell_type": "code",
   "execution_count": 39,
   "metadata": {},
   "outputs": [
    {
     "name": "stdout",
     "output_type": "stream",
     "text": [
      "Min avg rating for books  :  2.47\n",
      "Max avg rating for books  :  4.82\n"
     ]
    }
   ],
   "source": [
    "print(\"Min avg rating for books  : \", df_books.average_rating.min())\n",
    "print(\"Max avg rating for books  : \", df_books.average_rating.max())"
   ]
  },
  {
   "cell_type": "code",
   "execution_count": 40,
   "metadata": {},
   "outputs": [
    {
     "name": "stdout",
     "output_type": "stream",
     "text": [
      "Min rating for books  :  2716\n",
      "Max rating for books  :  4780653\n"
     ]
    }
   ],
   "source": [
    "print(\"Min rating for books  : \", df_books.ratings_count.min())\n",
    "print(\"Max rating for books  : \", df_books.ratings_count.max())"
   ]
  },
  {
   "cell_type": "code",
   "execution_count": 41,
   "metadata": {},
   "outputs": [
    {
     "data": {
      "text/plain": [
       "2.47"
      ]
     },
     "execution_count": 41,
     "metadata": {},
     "output_type": "execute_result"
    }
   ],
   "source": [
    "df_books.average_rating.min()"
   ]
  },
  {
   "cell_type": "code",
   "execution_count": 42,
   "metadata": {},
   "outputs": [
    {
     "data": {
      "text/plain": [
       "4.82"
      ]
     },
     "execution_count": 42,
     "metadata": {},
     "output_type": "execute_result"
    }
   ],
   "source": [
    "df_books.average_rating.max()"
   ]
  },
  {
   "cell_type": "code",
   "execution_count": 43,
   "metadata": {},
   "outputs": [
    {
     "data": {
      "text/html": [
       "<div>\n",
       "<style scoped>\n",
       "    .dataframe tbody tr th:only-of-type {\n",
       "        vertical-align: middle;\n",
       "    }\n",
       "\n",
       "    .dataframe tbody tr th {\n",
       "        vertical-align: top;\n",
       "    }\n",
       "\n",
       "    .dataframe thead th {\n",
       "        text-align: right;\n",
       "    }\n",
       "</style>\n",
       "<table border=\"1\" class=\"dataframe\">\n",
       "  <thead>\n",
       "    <tr style=\"text-align: right;\">\n",
       "      <th></th>\n",
       "      <th>id</th>\n",
       "      <th>book_id</th>\n",
       "      <th>best_book_id</th>\n",
       "      <th>work_id</th>\n",
       "      <th>books_count</th>\n",
       "      <th>isbn</th>\n",
       "      <th>isbn13</th>\n",
       "      <th>authors</th>\n",
       "      <th>original_publication_year</th>\n",
       "      <th>original_title</th>\n",
       "      <th>...</th>\n",
       "      <th>ratings_count</th>\n",
       "      <th>work_ratings_count</th>\n",
       "      <th>work_text_reviews_count</th>\n",
       "      <th>ratings_1</th>\n",
       "      <th>ratings_2</th>\n",
       "      <th>ratings_3</th>\n",
       "      <th>ratings_4</th>\n",
       "      <th>ratings_5</th>\n",
       "      <th>image_url</th>\n",
       "      <th>small_image_url</th>\n",
       "    </tr>\n",
       "  </thead>\n",
       "  <tbody>\n",
       "    <tr>\n",
       "      <th>1792</th>\n",
       "      <td>1793</td>\n",
       "      <td>105578</td>\n",
       "      <td>105578</td>\n",
       "      <td>101770</td>\n",
       "      <td>25</td>\n",
       "      <td>345498321</td>\n",
       "      <td>9.780000e+12</td>\n",
       "      <td>Chetan Bhagat</td>\n",
       "      <td>2005.0</td>\n",
       "      <td>One Night @ The Call Center</td>\n",
       "      <td>...</td>\n",
       "      <td>40718</td>\n",
       "      <td>44833</td>\n",
       "      <td>1244</td>\n",
       "      <td>10559</td>\n",
       "      <td>14125</td>\n",
       "      <td>11872</td>\n",
       "      <td>5177</td>\n",
       "      <td>3100</td>\n",
       "      <td>https://images.gr-assets.com/books/1320500924m...</td>\n",
       "      <td>https://images.gr-assets.com/books/1320500924s...</td>\n",
       "    </tr>\n",
       "  </tbody>\n",
       "</table>\n",
       "<p>1 rows × 23 columns</p>\n",
       "</div>"
      ],
      "text/plain": [
       "        id  book_id  best_book_id  work_id  books_count       isbn  \\\n",
       "1792  1793   105578        105578   101770           25  345498321   \n",
       "\n",
       "            isbn13        authors  original_publication_year  \\\n",
       "1792  9.780000e+12  Chetan Bhagat                     2005.0   \n",
       "\n",
       "                   original_title  ... ratings_count work_ratings_count  \\\n",
       "1792  One Night @ The Call Center  ...         40718              44833   \n",
       "\n",
       "      work_text_reviews_count  ratings_1  ratings_2  ratings_3  ratings_4  \\\n",
       "1792                     1244      10559      14125      11872       5177   \n",
       "\n",
       "      ratings_5                                          image_url  \\\n",
       "1792       3100  https://images.gr-assets.com/books/1320500924m...   \n",
       "\n",
       "                                        small_image_url  \n",
       "1792  https://images.gr-assets.com/books/1320500924s...  \n",
       "\n",
       "[1 rows x 23 columns]"
      ]
     },
     "execution_count": 43,
     "metadata": {},
     "output_type": "execute_result"
    }
   ],
   "source": [
    "df_books[df_books.average_rating == df_books.average_rating.min()]"
   ]
  },
  {
   "cell_type": "code",
   "execution_count": 44,
   "metadata": {},
   "outputs": [
    {
     "data": {
      "text/html": [
       "<div>\n",
       "<style scoped>\n",
       "    .dataframe tbody tr th:only-of-type {\n",
       "        vertical-align: middle;\n",
       "    }\n",
       "\n",
       "    .dataframe tbody tr th {\n",
       "        vertical-align: top;\n",
       "    }\n",
       "\n",
       "    .dataframe thead th {\n",
       "        text-align: right;\n",
       "    }\n",
       "</style>\n",
       "<table border=\"1\" class=\"dataframe\">\n",
       "  <thead>\n",
       "    <tr style=\"text-align: right;\">\n",
       "      <th></th>\n",
       "      <th>id</th>\n",
       "      <th>book_id</th>\n",
       "      <th>best_book_id</th>\n",
       "      <th>work_id</th>\n",
       "      <th>books_count</th>\n",
       "      <th>isbn</th>\n",
       "      <th>isbn13</th>\n",
       "      <th>authors</th>\n",
       "      <th>original_publication_year</th>\n",
       "      <th>original_title</th>\n",
       "      <th>...</th>\n",
       "      <th>ratings_count</th>\n",
       "      <th>work_ratings_count</th>\n",
       "      <th>work_text_reviews_count</th>\n",
       "      <th>ratings_1</th>\n",
       "      <th>ratings_2</th>\n",
       "      <th>ratings_3</th>\n",
       "      <th>ratings_4</th>\n",
       "      <th>ratings_5</th>\n",
       "      <th>image_url</th>\n",
       "      <th>small_image_url</th>\n",
       "    </tr>\n",
       "  </thead>\n",
       "  <tbody>\n",
       "    <tr>\n",
       "      <th>3627</th>\n",
       "      <td>3628</td>\n",
       "      <td>24812</td>\n",
       "      <td>24812</td>\n",
       "      <td>25599</td>\n",
       "      <td>14</td>\n",
       "      <td>740748475</td>\n",
       "      <td>9.780000e+12</td>\n",
       "      <td>Bill Watterson</td>\n",
       "      <td>2005.0</td>\n",
       "      <td>The Complete Calvin and Hobbes</td>\n",
       "      <td>...</td>\n",
       "      <td>28900</td>\n",
       "      <td>29968</td>\n",
       "      <td>861</td>\n",
       "      <td>120</td>\n",
       "      <td>154</td>\n",
       "      <td>693</td>\n",
       "      <td>3117</td>\n",
       "      <td>25884</td>\n",
       "      <td>https://images.gr-assets.com/books/1473064526m...</td>\n",
       "      <td>https://images.gr-assets.com/books/1473064526s...</td>\n",
       "    </tr>\n",
       "  </tbody>\n",
       "</table>\n",
       "<p>1 rows × 23 columns</p>\n",
       "</div>"
      ],
      "text/plain": [
       "        id  book_id  best_book_id  work_id  books_count       isbn  \\\n",
       "3627  3628    24812         24812    25599           14  740748475   \n",
       "\n",
       "            isbn13         authors  original_publication_year  \\\n",
       "3627  9.780000e+12  Bill Watterson                     2005.0   \n",
       "\n",
       "                      original_title  ... ratings_count work_ratings_count  \\\n",
       "3627  The Complete Calvin and Hobbes  ...         28900              29968   \n",
       "\n",
       "      work_text_reviews_count  ratings_1  ratings_2  ratings_3  ratings_4  \\\n",
       "3627                      861        120        154        693       3117   \n",
       "\n",
       "      ratings_5                                          image_url  \\\n",
       "3627      25884  https://images.gr-assets.com/books/1473064526m...   \n",
       "\n",
       "                                        small_image_url  \n",
       "3627  https://images.gr-assets.com/books/1473064526s...  \n",
       "\n",
       "[1 rows x 23 columns]"
      ]
     },
     "execution_count": 44,
     "metadata": {},
     "output_type": "execute_result"
    }
   ],
   "source": [
    "df_books[df_books.average_rating == df_books.average_rating.max()]"
   ]
  },
  {
   "cell_type": "code",
   "execution_count": 45,
   "metadata": {},
   "outputs": [
    {
     "data": {
      "text/html": [
       "<div>\n",
       "<style scoped>\n",
       "    .dataframe tbody tr th:only-of-type {\n",
       "        vertical-align: middle;\n",
       "    }\n",
       "\n",
       "    .dataframe tbody tr th {\n",
       "        vertical-align: top;\n",
       "    }\n",
       "\n",
       "    .dataframe thead th {\n",
       "        text-align: right;\n",
       "    }\n",
       "</style>\n",
       "<table border=\"1\" class=\"dataframe\">\n",
       "  <thead>\n",
       "    <tr style=\"text-align: right;\">\n",
       "      <th></th>\n",
       "      <th>id</th>\n",
       "      <th>book_id</th>\n",
       "      <th>best_book_id</th>\n",
       "      <th>work_id</th>\n",
       "      <th>books_count</th>\n",
       "      <th>isbn</th>\n",
       "      <th>isbn13</th>\n",
       "      <th>authors</th>\n",
       "      <th>original_publication_year</th>\n",
       "      <th>original_title</th>\n",
       "      <th>...</th>\n",
       "      <th>ratings_count</th>\n",
       "      <th>work_ratings_count</th>\n",
       "      <th>work_text_reviews_count</th>\n",
       "      <th>ratings_1</th>\n",
       "      <th>ratings_2</th>\n",
       "      <th>ratings_3</th>\n",
       "      <th>ratings_4</th>\n",
       "      <th>ratings_5</th>\n",
       "      <th>image_url</th>\n",
       "      <th>small_image_url</th>\n",
       "    </tr>\n",
       "  </thead>\n",
       "  <tbody>\n",
       "    <tr>\n",
       "      <th>0</th>\n",
       "      <td>1</td>\n",
       "      <td>2767052</td>\n",
       "      <td>2767052</td>\n",
       "      <td>2792775</td>\n",
       "      <td>272</td>\n",
       "      <td>439023483</td>\n",
       "      <td>9.780000e+12</td>\n",
       "      <td>Suzanne Collins</td>\n",
       "      <td>2008.0</td>\n",
       "      <td>The Hunger Games</td>\n",
       "      <td>...</td>\n",
       "      <td>4780653</td>\n",
       "      <td>4942365</td>\n",
       "      <td>155254</td>\n",
       "      <td>66715</td>\n",
       "      <td>127936</td>\n",
       "      <td>560092</td>\n",
       "      <td>1481305</td>\n",
       "      <td>2706317</td>\n",
       "      <td>https://images.gr-assets.com/books/1447303603m...</td>\n",
       "      <td>https://images.gr-assets.com/books/1447303603s...</td>\n",
       "    </tr>\n",
       "  </tbody>\n",
       "</table>\n",
       "<p>1 rows × 23 columns</p>\n",
       "</div>"
      ],
      "text/plain": [
       "   id  book_id  best_book_id  work_id  books_count       isbn        isbn13  \\\n",
       "0   1  2767052       2767052  2792775          272  439023483  9.780000e+12   \n",
       "\n",
       "           authors  original_publication_year    original_title  ...  \\\n",
       "0  Suzanne Collins                     2008.0  The Hunger Games  ...   \n",
       "\n",
       "  ratings_count work_ratings_count  work_text_reviews_count  ratings_1  \\\n",
       "0       4780653            4942365                   155254      66715   \n",
       "\n",
       "   ratings_2  ratings_3  ratings_4  ratings_5  \\\n",
       "0     127936     560092    1481305    2706317   \n",
       "\n",
       "                                           image_url  \\\n",
       "0  https://images.gr-assets.com/books/1447303603m...   \n",
       "\n",
       "                                     small_image_url  \n",
       "0  https://images.gr-assets.com/books/1447303603s...  \n",
       "\n",
       "[1 rows x 23 columns]"
      ]
     },
     "execution_count": 45,
     "metadata": {},
     "output_type": "execute_result"
    }
   ],
   "source": [
    "df_books[df_books.ratings_count == df_books.ratings_count.max()]"
   ]
  },
  {
   "cell_type": "code",
   "execution_count": 46,
   "metadata": {},
   "outputs": [
    {
     "data": {
      "text/plain": [
       "2716"
      ]
     },
     "execution_count": 46,
     "metadata": {},
     "output_type": "execute_result"
    }
   ],
   "source": [
    "df_books.ratings_count.min()"
   ]
  },
  {
   "cell_type": "code",
   "execution_count": 47,
   "metadata": {},
   "outputs": [
    {
     "data": {
      "text/html": [
       "<div>\n",
       "<style scoped>\n",
       "    .dataframe tbody tr th:only-of-type {\n",
       "        vertical-align: middle;\n",
       "    }\n",
       "\n",
       "    .dataframe tbody tr th {\n",
       "        vertical-align: top;\n",
       "    }\n",
       "\n",
       "    .dataframe thead th {\n",
       "        text-align: right;\n",
       "    }\n",
       "</style>\n",
       "<table border=\"1\" class=\"dataframe\">\n",
       "  <thead>\n",
       "    <tr style=\"text-align: right;\">\n",
       "      <th></th>\n",
       "      <th>id</th>\n",
       "      <th>book_id</th>\n",
       "      <th>best_book_id</th>\n",
       "      <th>work_id</th>\n",
       "      <th>books_count</th>\n",
       "      <th>isbn</th>\n",
       "      <th>isbn13</th>\n",
       "      <th>authors</th>\n",
       "      <th>original_publication_year</th>\n",
       "      <th>original_title</th>\n",
       "      <th>...</th>\n",
       "      <th>ratings_count</th>\n",
       "      <th>work_ratings_count</th>\n",
       "      <th>work_text_reviews_count</th>\n",
       "      <th>ratings_1</th>\n",
       "      <th>ratings_2</th>\n",
       "      <th>ratings_3</th>\n",
       "      <th>ratings_4</th>\n",
       "      <th>ratings_5</th>\n",
       "      <th>image_url</th>\n",
       "      <th>small_image_url</th>\n",
       "    </tr>\n",
       "  </thead>\n",
       "  <tbody>\n",
       "    <tr>\n",
       "      <th>7638</th>\n",
       "      <td>7639</td>\n",
       "      <td>192510</td>\n",
       "      <td>192510</td>\n",
       "      <td>186149</td>\n",
       "      <td>91</td>\n",
       "      <td>964913980X</td>\n",
       "      <td>NaN</td>\n",
       "      <td>José Mauro de Vasconcelos, قاسم صنعوی</td>\n",
       "      <td>1968.0</td>\n",
       "      <td>Meu Pé de Laranja Lima</td>\n",
       "      <td>...</td>\n",
       "      <td>2716</td>\n",
       "      <td>15091</td>\n",
       "      <td>931</td>\n",
       "      <td>164</td>\n",
       "      <td>392</td>\n",
       "      <td>1644</td>\n",
       "      <td>4516</td>\n",
       "      <td>8375</td>\n",
       "      <td>https://images.gr-assets.com/books/1502523710m...</td>\n",
       "      <td>https://images.gr-assets.com/books/1502523710s...</td>\n",
       "    </tr>\n",
       "  </tbody>\n",
       "</table>\n",
       "<p>1 rows × 23 columns</p>\n",
       "</div>"
      ],
      "text/plain": [
       "        id  book_id  best_book_id  work_id  books_count        isbn  isbn13  \\\n",
       "7638  7639   192510        192510   186149           91  964913980X     NaN   \n",
       "\n",
       "                                    authors  original_publication_year  \\\n",
       "7638  José Mauro de Vasconcelos, قاسم صنعوی                     1968.0   \n",
       "\n",
       "              original_title  ... ratings_count work_ratings_count  \\\n",
       "7638  Meu Pé de Laranja Lima  ...          2716              15091   \n",
       "\n",
       "      work_text_reviews_count  ratings_1  ratings_2  ratings_3  ratings_4  \\\n",
       "7638                      931        164        392       1644       4516   \n",
       "\n",
       "      ratings_5                                          image_url  \\\n",
       "7638       8375  https://images.gr-assets.com/books/1502523710m...   \n",
       "\n",
       "                                        small_image_url  \n",
       "7638  https://images.gr-assets.com/books/1502523710s...  \n",
       "\n",
       "[1 rows x 23 columns]"
      ]
     },
     "execution_count": 47,
     "metadata": {},
     "output_type": "execute_result"
    }
   ],
   "source": [
    "df_books[df_books.ratings_count == df_books.ratings_count.min()]"
   ]
  },
  {
   "cell_type": "code",
   "execution_count": 48,
   "metadata": {},
   "outputs": [],
   "source": [
    "# Get top 100 best rated books in our dataset\n",
    "\n",
    "top_books_df = df_books.loc[df_books[\"average_rating\"] > 4] \\\n",
    "                        .sort_values(by=\"ratings_count\", ascending=False) \\\n",
    "                        .reset_index() \\\n",
    "                        .head(100)"
   ]
  },
  {
   "cell_type": "code",
   "execution_count": 49,
   "metadata": {
    "scrolled": true
   },
   "outputs": [
    {
     "data": {
      "text/html": [
       "<div>\n",
       "<style scoped>\n",
       "    .dataframe tbody tr th:only-of-type {\n",
       "        vertical-align: middle;\n",
       "    }\n",
       "\n",
       "    .dataframe tbody tr th {\n",
       "        vertical-align: top;\n",
       "    }\n",
       "\n",
       "    .dataframe thead th {\n",
       "        text-align: right;\n",
       "    }\n",
       "</style>\n",
       "<table border=\"1\" class=\"dataframe\">\n",
       "  <thead>\n",
       "    <tr style=\"text-align: right;\">\n",
       "      <th></th>\n",
       "      <th>book_id</th>\n",
       "      <th>title</th>\n",
       "      <th>authors</th>\n",
       "      <th>average_rating</th>\n",
       "      <th>ratings_count</th>\n",
       "      <th>image_url</th>\n",
       "    </tr>\n",
       "  </thead>\n",
       "  <tbody>\n",
       "    <tr>\n",
       "      <th>0</th>\n",
       "      <td>2767052</td>\n",
       "      <td>The Hunger Games (The Hunger Games, #1)</td>\n",
       "      <td>Suzanne Collins</td>\n",
       "      <td>4.34</td>\n",
       "      <td>4780653</td>\n",
       "      <td>https://images.gr-assets.com/books/1447303603m...</td>\n",
       "    </tr>\n",
       "    <tr>\n",
       "      <th>1</th>\n",
       "      <td>3</td>\n",
       "      <td>Harry Potter and the Sorcerer's Stone (Harry P...</td>\n",
       "      <td>J.K. Rowling, Mary GrandPré</td>\n",
       "      <td>4.44</td>\n",
       "      <td>4602479</td>\n",
       "      <td>https://images.gr-assets.com/books/1474154022m...</td>\n",
       "    </tr>\n",
       "    <tr>\n",
       "      <th>2</th>\n",
       "      <td>2657</td>\n",
       "      <td>To Kill a Mockingbird</td>\n",
       "      <td>Harper Lee</td>\n",
       "      <td>4.25</td>\n",
       "      <td>3198671</td>\n",
       "      <td>https://images.gr-assets.com/books/1361975680m...</td>\n",
       "    </tr>\n",
       "    <tr>\n",
       "      <th>3</th>\n",
       "      <td>11870085</td>\n",
       "      <td>The Fault in Our Stars</td>\n",
       "      <td>John Green</td>\n",
       "      <td>4.26</td>\n",
       "      <td>2346404</td>\n",
       "      <td>https://images.gr-assets.com/books/1360206420m...</td>\n",
       "    </tr>\n",
       "    <tr>\n",
       "      <th>4</th>\n",
       "      <td>5907</td>\n",
       "      <td>The Hobbit</td>\n",
       "      <td>J.R.R. Tolkien</td>\n",
       "      <td>4.25</td>\n",
       "      <td>2071616</td>\n",
       "      <td>https://images.gr-assets.com/books/1372847500m...</td>\n",
       "    </tr>\n",
       "    <tr>\n",
       "      <th>5</th>\n",
       "      <td>1885</td>\n",
       "      <td>Pride and Prejudice</td>\n",
       "      <td>Jane Austen</td>\n",
       "      <td>4.24</td>\n",
       "      <td>2035490</td>\n",
       "      <td>https://images.gr-assets.com/books/1320399351m...</td>\n",
       "    </tr>\n",
       "    <tr>\n",
       "      <th>6</th>\n",
       "      <td>48855</td>\n",
       "      <td>The Diary of a Young Girl</td>\n",
       "      <td>Anne Frank, Eleanor Roosevelt, B.M. Mooyaart-D...</td>\n",
       "      <td>4.10</td>\n",
       "      <td>1972666</td>\n",
       "      <td>https://images.gr-assets.com/books/1358276407m...</td>\n",
       "    </tr>\n",
       "    <tr>\n",
       "      <th>7</th>\n",
       "      <td>5470</td>\n",
       "      <td>1984</td>\n",
       "      <td>George Orwell, Erich Fromm, Celâl Üster</td>\n",
       "      <td>4.14</td>\n",
       "      <td>1956832</td>\n",
       "      <td>https://images.gr-assets.com/books/1348990566m...</td>\n",
       "    </tr>\n",
       "    <tr>\n",
       "      <th>8</th>\n",
       "      <td>13335037</td>\n",
       "      <td>Divergent (Divergent, #1)</td>\n",
       "      <td>Veronica Roth</td>\n",
       "      <td>4.24</td>\n",
       "      <td>1903563</td>\n",
       "      <td>https://images.gr-assets.com/books/1328559506m...</td>\n",
       "    </tr>\n",
       "    <tr>\n",
       "      <th>9</th>\n",
       "      <td>5</td>\n",
       "      <td>Harry Potter and the Prisoner of Azkaban (Harr...</td>\n",
       "      <td>J.K. Rowling, Mary GrandPré, Rufus Beck</td>\n",
       "      <td>4.53</td>\n",
       "      <td>1832823</td>\n",
       "      <td>https://images.gr-assets.com/books/1499277281m...</td>\n",
       "    </tr>\n",
       "  </tbody>\n",
       "</table>\n",
       "</div>"
      ],
      "text/plain": [
       "    book_id                                              title  \\\n",
       "0   2767052            The Hunger Games (The Hunger Games, #1)   \n",
       "1         3  Harry Potter and the Sorcerer's Stone (Harry P...   \n",
       "2      2657                              To Kill a Mockingbird   \n",
       "3  11870085                             The Fault in Our Stars   \n",
       "4      5907                                         The Hobbit   \n",
       "5      1885                                Pride and Prejudice   \n",
       "6     48855                          The Diary of a Young Girl   \n",
       "7      5470                                               1984   \n",
       "8  13335037                          Divergent (Divergent, #1)   \n",
       "9         5  Harry Potter and the Prisoner of Azkaban (Harr...   \n",
       "\n",
       "                                             authors  average_rating  \\\n",
       "0                                    Suzanne Collins            4.34   \n",
       "1                        J.K. Rowling, Mary GrandPré            4.44   \n",
       "2                                         Harper Lee            4.25   \n",
       "3                                         John Green            4.26   \n",
       "4                                     J.R.R. Tolkien            4.25   \n",
       "5                                        Jane Austen            4.24   \n",
       "6  Anne Frank, Eleanor Roosevelt, B.M. Mooyaart-D...            4.10   \n",
       "7            George Orwell, Erich Fromm, Celâl Üster            4.14   \n",
       "8                                      Veronica Roth            4.24   \n",
       "9            J.K. Rowling, Mary GrandPré, Rufus Beck            4.53   \n",
       "\n",
       "   ratings_count                                          image_url  \n",
       "0        4780653  https://images.gr-assets.com/books/1447303603m...  \n",
       "1        4602479  https://images.gr-assets.com/books/1474154022m...  \n",
       "2        3198671  https://images.gr-assets.com/books/1361975680m...  \n",
       "3        2346404  https://images.gr-assets.com/books/1360206420m...  \n",
       "4        2071616  https://images.gr-assets.com/books/1372847500m...  \n",
       "5        2035490  https://images.gr-assets.com/books/1320399351m...  \n",
       "6        1972666  https://images.gr-assets.com/books/1358276407m...  \n",
       "7        1956832  https://images.gr-assets.com/books/1348990566m...  \n",
       "8        1903563  https://images.gr-assets.com/books/1328559506m...  \n",
       "9        1832823  https://images.gr-assets.com/books/1499277281m...  "
      ]
     },
     "execution_count": 49,
     "metadata": {},
     "output_type": "execute_result"
    }
   ],
   "source": [
    "top_books_df = top_books_df.loc[:, ['book_id','title','authors','average_rating','ratings_count','image_url']]\n",
    "top_books_df.head(10)"
   ]
  },
  {
   "cell_type": "code",
   "execution_count": 50,
   "metadata": {},
   "outputs": [
    {
     "data": {
      "text/plain": [
       "10000"
      ]
     },
     "execution_count": 50,
     "metadata": {},
     "output_type": "execute_result"
    }
   ],
   "source": [
    "# number of unique books\n",
    "\n",
    "df_ratings['book_id'].nunique()"
   ]
  },
  {
   "cell_type": "code",
   "execution_count": 51,
   "metadata": {},
   "outputs": [
    {
     "data": {
      "text/plain": [
       "53424"
      ]
     },
     "execution_count": 51,
     "metadata": {},
     "output_type": "execute_result"
    }
   ],
   "source": [
    "# number of unique users\n",
    "\n",
    "df_ratings['user_id'].nunique()"
   ]
  },
  {
   "cell_type": "code",
   "execution_count": 52,
   "metadata": {
    "id": "rNXpB4n3rQxu"
   },
   "outputs": [
    {
     "data": {
      "text/plain": [
       "4    356854\n",
       "5    292217\n",
       "3    248318\n",
       "2     63177\n",
       "1     19546\n",
       "Name: rating, dtype: int64"
      ]
     },
     "execution_count": 52,
     "metadata": {},
     "output_type": "execute_result"
    }
   ],
   "source": [
    "# distribution of ratings\n",
    "\n",
    "df_ratings['rating'].value_counts()"
   ]
  },
  {
   "cell_type": "code",
   "execution_count": 53,
   "metadata": {},
   "outputs": [
    {
     "data": {
      "text/plain": [
       "4    0.364095\n",
       "5    0.298147\n",
       "3    0.253357\n",
       "2    0.064459\n",
       "1    0.019943\n",
       "Name: rating, dtype: float64"
      ]
     },
     "execution_count": 53,
     "metadata": {},
     "output_type": "execute_result"
    }
   ],
   "source": [
    "df_ratings['rating'].value_counts(normalize=True)"
   ]
  },
  {
   "cell_type": "code",
   "execution_count": 54,
   "metadata": {},
   "outputs": [
    {
     "data": {
      "image/png": "[encoded data removed]",
      "text/plain": [
       "<Figure size 640x480 with 1 Axes>"
      ]
     },
     "metadata": {},
     "output_type": "display_data"
    }
   ],
   "source": [
    "# the distribution of ratings\n",
    "\n",
    "plt.hist(df_ratings['rating'], bins=[0.5,1.5,2.5,3.5,4.5,5.5], alpha=0.7,\n",
    "         histtype='stepfilled', color='steelblue',\n",
    "         edgecolor='none')\n",
    "plt.title('Book Ratings')\n",
    "plt.ylabel('Frequency')\n",
    "plt.xlabel('Rating')\n",
    "# plt.box(False)\n",
    "plt.show()"
   ]
  },
  {
   "cell_type": "code",
   "execution_count": 55,
   "metadata": {},
   "outputs": [],
   "source": [
    "books_ratings = df_books.merge(df_ratings, on='book_id').filter(['book_id','user_id','title','authors','image_url'])"
   ]
  },
  {
   "cell_type": "code",
   "execution_count": 56,
   "metadata": {
    "scrolled": true
   },
   "outputs": [
    {
     "data": {
      "text/html": [
       "<div>\n",
       "<style scoped>\n",
       "    .dataframe tbody tr th:only-of-type {\n",
       "        vertical-align: middle;\n",
       "    }\n",
       "\n",
       "    .dataframe tbody tr th {\n",
       "        vertical-align: top;\n",
       "    }\n",
       "\n",
       "    .dataframe thead th {\n",
       "        text-align: right;\n",
       "    }\n",
       "</style>\n",
       "<table border=\"1\" class=\"dataframe\">\n",
       "  <thead>\n",
       "    <tr style=\"text-align: right;\">\n",
       "      <th></th>\n",
       "      <th>book_id</th>\n",
       "      <th>user_id</th>\n",
       "      <th>title</th>\n",
       "      <th>authors</th>\n",
       "      <th>image_url</th>\n",
       "    </tr>\n",
       "  </thead>\n",
       "  <tbody>\n",
       "    <tr>\n",
       "      <th>0</th>\n",
       "      <td>3</td>\n",
       "      <td>314</td>\n",
       "      <td>Harry Potter and the Sorcerer's Stone (Harry P...</td>\n",
       "      <td>J.K. Rowling, Mary GrandPré</td>\n",
       "      <td>https://images.gr-assets.com/books/1474154022m...</td>\n",
       "    </tr>\n",
       "    <tr>\n",
       "      <th>1</th>\n",
       "      <td>3</td>\n",
       "      <td>588</td>\n",
       "      <td>Harry Potter and the Sorcerer's Stone (Harry P...</td>\n",
       "      <td>J.K. Rowling, Mary GrandPré</td>\n",
       "      <td>https://images.gr-assets.com/books/1474154022m...</td>\n",
       "    </tr>\n",
       "    <tr>\n",
       "      <th>2</th>\n",
       "      <td>3</td>\n",
       "      <td>2077</td>\n",
       "      <td>Harry Potter and the Sorcerer's Stone (Harry P...</td>\n",
       "      <td>J.K. Rowling, Mary GrandPré</td>\n",
       "      <td>https://images.gr-assets.com/books/1474154022m...</td>\n",
       "    </tr>\n",
       "    <tr>\n",
       "      <th>3</th>\n",
       "      <td>3</td>\n",
       "      <td>2487</td>\n",
       "      <td>Harry Potter and the Sorcerer's Stone (Harry P...</td>\n",
       "      <td>J.K. Rowling, Mary GrandPré</td>\n",
       "      <td>https://images.gr-assets.com/books/1474154022m...</td>\n",
       "    </tr>\n",
       "    <tr>\n",
       "      <th>4</th>\n",
       "      <td>3</td>\n",
       "      <td>2900</td>\n",
       "      <td>Harry Potter and the Sorcerer's Stone (Harry P...</td>\n",
       "      <td>J.K. Rowling, Mary GrandPré</td>\n",
       "      <td>https://images.gr-assets.com/books/1474154022m...</td>\n",
       "    </tr>\n",
       "    <tr>\n",
       "      <th>...</th>\n",
       "      <td>...</td>\n",
       "      <td>...</td>\n",
       "      <td>...</td>\n",
       "      <td>...</td>\n",
       "      <td>...</td>\n",
       "    </tr>\n",
       "    <tr>\n",
       "      <th>79578</th>\n",
       "      <td>8914</td>\n",
       "      <td>46715</td>\n",
       "      <td>The First World War</td>\n",
       "      <td>John Keegan</td>\n",
       "      <td>https://images.gr-assets.com/books/1403194704m...</td>\n",
       "    </tr>\n",
       "    <tr>\n",
       "      <th>79579</th>\n",
       "      <td>8914</td>\n",
       "      <td>47073</td>\n",
       "      <td>The First World War</td>\n",
       "      <td>John Keegan</td>\n",
       "      <td>https://images.gr-assets.com/books/1403194704m...</td>\n",
       "    </tr>\n",
       "    <tr>\n",
       "      <th>79580</th>\n",
       "      <td>8914</td>\n",
       "      <td>49663</td>\n",
       "      <td>The First World War</td>\n",
       "      <td>John Keegan</td>\n",
       "      <td>https://images.gr-assets.com/books/1403194704m...</td>\n",
       "    </tr>\n",
       "    <tr>\n",
       "      <th>79581</th>\n",
       "      <td>8914</td>\n",
       "      <td>50305</td>\n",
       "      <td>The First World War</td>\n",
       "      <td>John Keegan</td>\n",
       "      <td>https://images.gr-assets.com/books/1403194704m...</td>\n",
       "    </tr>\n",
       "    <tr>\n",
       "      <th>79582</th>\n",
       "      <td>8914</td>\n",
       "      <td>52244</td>\n",
       "      <td>The First World War</td>\n",
       "      <td>John Keegan</td>\n",
       "      <td>https://images.gr-assets.com/books/1403194704m...</td>\n",
       "    </tr>\n",
       "  </tbody>\n",
       "</table>\n",
       "<p>79583 rows × 5 columns</p>\n",
       "</div>"
      ],
      "text/plain": [
       "       book_id  user_id                                              title  \\\n",
       "0            3      314  Harry Potter and the Sorcerer's Stone (Harry P...   \n",
       "1            3      588  Harry Potter and the Sorcerer's Stone (Harry P...   \n",
       "2            3     2077  Harry Potter and the Sorcerer's Stone (Harry P...   \n",
       "3            3     2487  Harry Potter and the Sorcerer's Stone (Harry P...   \n",
       "4            3     2900  Harry Potter and the Sorcerer's Stone (Harry P...   \n",
       "...        ...      ...                                                ...   \n",
       "79578     8914    46715                                The First World War   \n",
       "79579     8914    47073                                The First World War   \n",
       "79580     8914    49663                                The First World War   \n",
       "79581     8914    50305                                The First World War   \n",
       "79582     8914    52244                                The First World War   \n",
       "\n",
       "                           authors  \\\n",
       "0      J.K. Rowling, Mary GrandPré   \n",
       "1      J.K. Rowling, Mary GrandPré   \n",
       "2      J.K. Rowling, Mary GrandPré   \n",
       "3      J.K. Rowling, Mary GrandPré   \n",
       "4      J.K. Rowling, Mary GrandPré   \n",
       "...                            ...   \n",
       "79578                  John Keegan   \n",
       "79579                  John Keegan   \n",
       "79580                  John Keegan   \n",
       "79581                  John Keegan   \n",
       "79582                  John Keegan   \n",
       "\n",
       "                                               image_url  \n",
       "0      https://images.gr-assets.com/books/1474154022m...  \n",
       "1      https://images.gr-assets.com/books/1474154022m...  \n",
       "2      https://images.gr-assets.com/books/1474154022m...  \n",
       "3      https://images.gr-assets.com/books/1474154022m...  \n",
       "4      https://images.gr-assets.com/books/1474154022m...  \n",
       "...                                                  ...  \n",
       "79578  https://images.gr-assets.com/books/1403194704m...  \n",
       "79579  https://images.gr-assets.com/books/1403194704m...  \n",
       "79580  https://images.gr-assets.com/books/1403194704m...  \n",
       "79581  https://images.gr-assets.com/books/1403194704m...  \n",
       "79582  https://images.gr-assets.com/books/1403194704m...  \n",
       "\n",
       "[79583 rows x 5 columns]"
      ]
     },
     "execution_count": 56,
     "metadata": {},
     "output_type": "execute_result"
    }
   ],
   "source": [
    "books_ratings"
   ]
  },
  {
   "cell_type": "code",
   "execution_count": 91,
   "metadata": {
    "id": "cHS3ejO-plh4"
   },
   "outputs": [],
   "source": [
    "# split dataset in train, validation and test\n",
    "\n",
    "train_df, val_df, test_df = ratings.randomSplit([0.6, 0.2, 0.2], seed=12)\n"
   ]
  },
  {
   "cell_type": "code",
   "execution_count": 191,
   "metadata": {
    "id": "JvNRDzgBprDW"
   },
   "outputs": [],
   "source": [
    "# create ALS model\n",
    "\n",
    "als = ALS(userCol='user_id',\n",
    "          itemCol='book_id',\n",
    "          ratingCol='rating',\n",
    "          seed=12,\n",
    "          nonnegative=True,\n",
    "          coldStartStrategy='drop'\n",
    "         )"
   ]
  },
  {
   "cell_type": "code",
   "execution_count": 192,
   "metadata": {
    "id": "8vE32453rmzV"
   },
   "outputs": [
    {
     "name": "stderr",
     "output_type": "stream",
     "text": [
      "                                                                                \r"
     ]
    }
   ],
   "source": [
    "# traning the model\n",
    "\n",
    "als_model = als.fit(train_df)"
   ]
  },
  {
   "cell_type": "code",
   "execution_count": 193,
   "metadata": {
    "id": "IrSdnMegrpVc"
   },
   "outputs": [],
   "source": [
    "# generate predictions on the train dataset\n",
    "\n",
    "als_pred = als_model.transform(train_df)"
   ]
  },
  {
   "cell_type": "code",
   "execution_count": 194,
   "metadata": {
    "colab": {
     "base_uri": "https://localhost:8080/"
    },
    "id": "WPgfwmrZRlwy",
    "outputId": "d165ea4b-d316-4783-dbeb-69436aaa4082"
   },
   "outputs": [
    {
     "name": "stderr",
     "output_type": "stream",
     "text": [
      "[Stage 76574:====================================>                  (4 + 2) / 6]\r"
     ]
    },
    {
     "name": "stdout",
     "output_type": "stream",
     "text": [
      "The RMSE of the train data is : 0.5220439558114459\n"
     ]
    },
    {
     "name": "stderr",
     "output_type": "stream",
     "text": [
      "\r",
      "                                                                                \r"
     ]
    }
   ],
   "source": [
    "#  evaluate the predictions\n",
    "\n",
    "evaluator = RegressionEvaluator(metricName=\"rmse\",\n",
    "                                labelCol=\"rating\",\n",
    "                                predictionCol=\"prediction\")\n",
    "\n",
    "train_rmse = evaluator.evaluate(als_pred)\n",
    "print('The RMSE of the train data is :', train_rmse)"
   ]
  },
  {
   "cell_type": "code",
   "execution_count": 95,
   "metadata": {
    "colab": {
     "base_uri": "https://localhost:8080/",
     "height": 164
    },
    "id": "_mYVTyiRp8_J",
    "outputId": "d9910f6b-e16b-4972-c27f-a6037480d21d"
   },
   "outputs": [
    {
     "name": "stderr",
     "output_type": "stream",
     "text": [
      "                                                                                \r"
     ]
    },
    {
     "name": "stdout",
     "output_type": "stream",
     "text": [
      "+-------+-------+------+----------+\n",
      "|book_id|user_id|rating|prediction|\n",
      "+-------+-------+------+----------+\n",
      "|      1|  32592|     4| 4.3085356|\n",
      "|      2|  32592|     4| 4.3498545|\n",
      "|      3|  19984|     2| 3.5146048|\n",
      "|      3|  32592|     5| 2.9521945|\n",
      "|      4|  32592|     5| 4.4631243|\n",
      "+-------+-------+------+----------+\n",
      "only showing top 5 rows\n",
      "\n"
     ]
    }
   ],
   "source": [
    "als_pred.show(5)"
   ]
  },
  {
   "cell_type": "code",
   "execution_count": 126,
   "metadata": {
    "id": "3mkqPWGsPAxZ"
   },
   "outputs": [],
   "source": [
    "# Hyperparameters\n",
    "\n",
    "ranks =[10, 15, 20, 25]\n",
    "# ranks =[5, 6, 7, 8, 9, 15]\n",
    "maxIters= [5, 10, 15]\n",
    "# maxIters= [15, 20]\n",
    "regParams =  [0.1, 0.01, 0.02, 0.2]\n",
    "# regParams =  [0.09,0.05, 0.01, 0.21, 0,27, 0.33]"
   ]
  },
  {
   "cell_type": "code",
   "execution_count": 127,
   "metadata": {
    "colab": {
     "base_uri": "https://localhost:8080/",
     "height": 1000
    },
    "id": "025kUxSEPBpX",
    "outputId": "102c6069-e5d5-44fb-f199-6bb981609b50",
    "scrolled": false
   },
   "outputs": [
    {
     "name": "stderr",
     "output_type": "stream",
     "text": [
      "                                                                                \r"
     ]
    },
    {
     "name": "stdout",
     "output_type": "stream",
     "text": [
      "10 latent factors , regularization = 0.1: and iteration=5 train RMSE is 0.5581059940946036 \n"
     ]
    },
    {
     "name": "stderr",
     "output_type": "stream",
     "text": [
      "                                                                                \r"
     ]
    },
    {
     "name": "stdout",
     "output_type": "stream",
     "text": [
      "10 latent factors , regularization = 0.1: and iteration=10 train RMSE is 0.5220439558114459 \n"
     ]
    },
    {
     "name": "stderr",
     "output_type": "stream",
     "text": [
      "                                                                                \r"
     ]
    },
    {
     "name": "stdout",
     "output_type": "stream",
     "text": [
      "10 latent factors , regularization = 0.1: and iteration=15 train RMSE is 0.5091233132419182 \n"
     ]
    },
    {
     "name": "stderr",
     "output_type": "stream",
     "text": [
      "                                                                                \r"
     ]
    },
    {
     "name": "stdout",
     "output_type": "stream",
     "text": [
      "10 latent factors , regularization = 0.01: and iteration=5 train RMSE is 0.45179701394038285 \n"
     ]
    },
    {
     "name": "stderr",
     "output_type": "stream",
     "text": [
      "                                                                                \r"
     ]
    },
    {
     "name": "stdout",
     "output_type": "stream",
     "text": [
      "10 latent factors , regularization = 0.01: and iteration=10 train RMSE is 0.410077913363685 \n"
     ]
    },
    {
     "name": "stderr",
     "output_type": "stream",
     "text": [
      "                                                                                \r"
     ]
    },
    {
     "name": "stdout",
     "output_type": "stream",
     "text": [
      "10 latent factors , regularization = 0.01: and iteration=15 train RMSE is 0.39512843415972304 \n"
     ]
    },
    {
     "name": "stderr",
     "output_type": "stream",
     "text": [
      "                                                                                \r"
     ]
    },
    {
     "name": "stdout",
     "output_type": "stream",
     "text": [
      "10 latent factors , regularization = 0.02: and iteration=5 train RMSE is 0.45163149417044235 \n"
     ]
    },
    {
     "name": "stderr",
     "output_type": "stream",
     "text": [
      "                                                                                \r"
     ]
    },
    {
     "name": "stdout",
     "output_type": "stream",
     "text": [
      "10 latent factors , regularization = 0.02: and iteration=10 train RMSE is 0.41305223294180493 \n"
     ]
    },
    {
     "name": "stderr",
     "output_type": "stream",
     "text": [
      "                                                                                \r"
     ]
    },
    {
     "name": "stdout",
     "output_type": "stream",
     "text": [
      "10 latent factors , regularization = 0.02: and iteration=15 train RMSE is 0.39972243147526076 \n"
     ]
    },
    {
     "name": "stderr",
     "output_type": "stream",
     "text": [
      "                                                                                \r"
     ]
    },
    {
     "name": "stdout",
     "output_type": "stream",
     "text": [
      "10 latent factors , regularization = 0.2: and iteration=5 train RMSE is 0.7258342952641422 \n"
     ]
    },
    {
     "name": "stderr",
     "output_type": "stream",
     "text": [
      "                                                                                \r"
     ]
    },
    {
     "name": "stdout",
     "output_type": "stream",
     "text": [
      "10 latent factors , regularization = 0.2: and iteration=10 train RMSE is 0.6735414964319731 \n"
     ]
    },
    {
     "name": "stderr",
     "output_type": "stream",
     "text": [
      "                                                                                \r"
     ]
    },
    {
     "name": "stdout",
     "output_type": "stream",
     "text": [
      "10 latent factors , regularization = 0.2: and iteration=15 train RMSE is 0.6597929427461583 \n"
     ]
    },
    {
     "name": "stderr",
     "output_type": "stream",
     "text": [
      "                                                                                \r"
     ]
    },
    {
     "name": "stdout",
     "output_type": "stream",
     "text": [
      "15 latent factors , regularization = 0.1: and iteration=5 train RMSE is 0.5007434189387489 \n"
     ]
    },
    {
     "name": "stderr",
     "output_type": "stream",
     "text": [
      "                                                                                \r"
     ]
    },
    {
     "name": "stdout",
     "output_type": "stream",
     "text": [
      "15 latent factors , regularization = 0.1: and iteration=10 train RMSE is 0.46929642034921576 \n"
     ]
    },
    {
     "name": "stderr",
     "output_type": "stream",
     "text": [
      "                                                                                \r"
     ]
    },
    {
     "name": "stdout",
     "output_type": "stream",
     "text": [
      "15 latent factors , regularization = 0.1: and iteration=15 train RMSE is 0.4580676456554413 \n"
     ]
    },
    {
     "name": "stderr",
     "output_type": "stream",
     "text": [
      "                                                                                \r"
     ]
    },
    {
     "name": "stdout",
     "output_type": "stream",
     "text": [
      "15 latent factors , regularization = 0.01: and iteration=5 train RMSE is 0.35557406253541374 \n"
     ]
    },
    {
     "name": "stderr",
     "output_type": "stream",
     "text": [
      "                                                                                \r"
     ]
    },
    {
     "name": "stdout",
     "output_type": "stream",
     "text": [
      "15 latent factors , regularization = 0.01: and iteration=10 train RMSE is 0.31134150126326887 \n"
     ]
    },
    {
     "name": "stderr",
     "output_type": "stream",
     "text": [
      "                                                                                \r"
     ]
    },
    {
     "name": "stdout",
     "output_type": "stream",
     "text": [
      "15 latent factors , regularization = 0.01: and iteration=15 train RMSE is 0.2949263530470533 \n"
     ]
    },
    {
     "name": "stderr",
     "output_type": "stream",
     "text": [
      "                                                                                \r"
     ]
    },
    {
     "name": "stdout",
     "output_type": "stream",
     "text": [
      "15 latent factors , regularization = 0.02: and iteration=5 train RMSE is 0.3601573297651629 \n"
     ]
    },
    {
     "name": "stderr",
     "output_type": "stream",
     "text": [
      "                                                                                \r"
     ]
    },
    {
     "name": "stdout",
     "output_type": "stream",
     "text": [
      "15 latent factors , regularization = 0.02: and iteration=10 train RMSE is 0.3184240902814562 \n"
     ]
    },
    {
     "name": "stderr",
     "output_type": "stream",
     "text": [
      "                                                                                \r"
     ]
    },
    {
     "name": "stdout",
     "output_type": "stream",
     "text": [
      "15 latent factors , regularization = 0.02: and iteration=15 train RMSE is 0.30335455436308056 \n"
     ]
    },
    {
     "name": "stderr",
     "output_type": "stream",
     "text": [
      "                                                                                \r"
     ]
    },
    {
     "name": "stdout",
     "output_type": "stream",
     "text": [
      "15 latent factors , regularization = 0.2: and iteration=5 train RMSE is 0.7067139660069958 \n"
     ]
    },
    {
     "name": "stderr",
     "output_type": "stream",
     "text": [
      "                                                                                \r"
     ]
    },
    {
     "name": "stdout",
     "output_type": "stream",
     "text": [
      "15 latent factors , regularization = 0.2: and iteration=10 train RMSE is 0.6568531938709414 \n"
     ]
    },
    {
     "name": "stderr",
     "output_type": "stream",
     "text": [
      "                                                                                \r"
     ]
    },
    {
     "name": "stdout",
     "output_type": "stream",
     "text": [
      "15 latent factors , regularization = 0.2: and iteration=15 train RMSE is 0.6433715223052477 \n"
     ]
    },
    {
     "name": "stderr",
     "output_type": "stream",
     "text": [
      "                                                                                \r"
     ]
    },
    {
     "name": "stdout",
     "output_type": "stream",
     "text": [
      "20 latent factors , regularization = 0.1: and iteration=5 train RMSE is 0.4696097956253754 \n"
     ]
    },
    {
     "name": "stderr",
     "output_type": "stream",
     "text": [
      "                                                                                \r"
     ]
    },
    {
     "name": "stdout",
     "output_type": "stream",
     "text": [
      "20 latent factors , regularization = 0.1: and iteration=10 train RMSE is 0.4397449234478917 \n"
     ]
    },
    {
     "name": "stderr",
     "output_type": "stream",
     "text": [
      "                                                                                \r"
     ]
    },
    {
     "name": "stdout",
     "output_type": "stream",
     "text": [
      "20 latent factors , regularization = 0.1: and iteration=15 train RMSE is 0.42925163826388707 \n"
     ]
    },
    {
     "name": "stderr",
     "output_type": "stream",
     "text": [
      "                                                                                \r"
     ]
    },
    {
     "name": "stdout",
     "output_type": "stream",
     "text": [
      "20 latent factors , regularization = 0.01: and iteration=5 train RMSE is 0.2900194644734414 \n"
     ]
    },
    {
     "name": "stderr",
     "output_type": "stream",
     "text": [
      "                                                                                \r"
     ]
    },
    {
     "name": "stdout",
     "output_type": "stream",
     "text": [
      "20 latent factors , regularization = 0.01: and iteration=10 train RMSE is 0.24639724474937863 \n"
     ]
    },
    {
     "name": "stderr",
     "output_type": "stream",
     "text": [
      "                                                                                \r"
     ]
    },
    {
     "name": "stdout",
     "output_type": "stream",
     "text": [
      "20 latent factors , regularization = 0.01: and iteration=15 train RMSE is 0.2294074430961651 \n"
     ]
    },
    {
     "name": "stderr",
     "output_type": "stream",
     "text": [
      "                                                                                \r"
     ]
    },
    {
     "name": "stdout",
     "output_type": "stream",
     "text": [
      "20 latent factors , regularization = 0.02: and iteration=5 train RMSE is 0.29848094318958324 \n"
     ]
    },
    {
     "name": "stderr",
     "output_type": "stream",
     "text": [
      "                                                                                \r"
     ]
    },
    {
     "name": "stdout",
     "output_type": "stream",
     "text": [
      "20 latent factors , regularization = 0.02: and iteration=10 train RMSE is 0.25767650897090877 \n"
     ]
    },
    {
     "name": "stderr",
     "output_type": "stream",
     "text": [
      "                                                                                \r"
     ]
    },
    {
     "name": "stdout",
     "output_type": "stream",
     "text": [
      "20 latent factors , regularization = 0.02: and iteration=15 train RMSE is 0.24184142131574182 \n"
     ]
    },
    {
     "name": "stderr",
     "output_type": "stream",
     "text": [
      "                                                                                \r"
     ]
    },
    {
     "name": "stdout",
     "output_type": "stream",
     "text": [
      "20 latent factors , regularization = 0.2: and iteration=5 train RMSE is 0.6975595201314447 \n"
     ]
    },
    {
     "name": "stderr",
     "output_type": "stream",
     "text": [
      "                                                                                \r"
     ]
    },
    {
     "name": "stdout",
     "output_type": "stream",
     "text": [
      "20 latent factors , regularization = 0.2: and iteration=10 train RMSE is 0.6477174547752834 \n"
     ]
    },
    {
     "name": "stderr",
     "output_type": "stream",
     "text": [
      "                                                                                \r"
     ]
    },
    {
     "name": "stdout",
     "output_type": "stream",
     "text": [
      "20 latent factors , regularization = 0.2: and iteration=15 train RMSE is 0.6343194966625868 \n"
     ]
    },
    {
     "name": "stderr",
     "output_type": "stream",
     "text": [
      "                                                                                \r"
     ]
    },
    {
     "name": "stdout",
     "output_type": "stream",
     "text": [
      "25 latent factors , regularization = 0.1: and iteration=5 train RMSE is 0.4452812504488312 \n"
     ]
    },
    {
     "name": "stderr",
     "output_type": "stream",
     "text": [
      "                                                                                \r"
     ]
    },
    {
     "name": "stdout",
     "output_type": "stream",
     "text": [
      "25 latent factors , regularization = 0.1: and iteration=10 train RMSE is 0.4189812297583597 \n"
     ]
    },
    {
     "name": "stderr",
     "output_type": "stream",
     "text": [
      "                                                                                \r"
     ]
    },
    {
     "name": "stdout",
     "output_type": "stream",
     "text": [
      "25 latent factors , regularization = 0.1: and iteration=15 train RMSE is 0.4099913851662089 \n"
     ]
    },
    {
     "name": "stderr",
     "output_type": "stream",
     "text": [
      "                                                                                \r"
     ]
    },
    {
     "name": "stdout",
     "output_type": "stream",
     "text": [
      "25 latent factors , regularization = 0.01: and iteration=5 train RMSE is 0.24586169501286084 \n"
     ]
    },
    {
     "name": "stderr",
     "output_type": "stream",
     "text": [
      "                                                                                \r"
     ]
    },
    {
     "name": "stdout",
     "output_type": "stream",
     "text": [
      "25 latent factors , regularization = 0.01: and iteration=10 train RMSE is 0.20404753530577563 \n"
     ]
    },
    {
     "name": "stderr",
     "output_type": "stream",
     "text": [
      "                                                                                \r"
     ]
    },
    {
     "name": "stdout",
     "output_type": "stream",
     "text": [
      "25 latent factors , regularization = 0.01: and iteration=15 train RMSE is 0.18687192580352055 \n"
     ]
    },
    {
     "name": "stderr",
     "output_type": "stream",
     "text": [
      "                                                                                \r"
     ]
    },
    {
     "name": "stdout",
     "output_type": "stream",
     "text": [
      "25 latent factors , regularization = 0.02: and iteration=5 train RMSE is 0.25741324354586814 \n"
     ]
    },
    {
     "name": "stderr",
     "output_type": "stream",
     "text": [
      "                                                                                \r"
     ]
    },
    {
     "name": "stdout",
     "output_type": "stream",
     "text": [
      "25 latent factors , regularization = 0.02: and iteration=10 train RMSE is 0.21761221203694625 \n"
     ]
    },
    {
     "name": "stderr",
     "output_type": "stream",
     "text": [
      "                                                                                \r"
     ]
    },
    {
     "name": "stdout",
     "output_type": "stream",
     "text": [
      "25 latent factors , regularization = 0.02: and iteration=15 train RMSE is 0.20230859458853861 \n"
     ]
    },
    {
     "name": "stderr",
     "output_type": "stream",
     "text": [
      "                                                                                \r"
     ]
    },
    {
     "name": "stdout",
     "output_type": "stream",
     "text": [
      "25 latent factors , regularization = 0.2: and iteration=5 train RMSE is 0.6887217160377889 \n"
     ]
    },
    {
     "name": "stderr",
     "output_type": "stream",
     "text": [
      "                                                                                \r"
     ]
    },
    {
     "name": "stdout",
     "output_type": "stream",
     "text": [
      "25 latent factors , regularization = 0.2: and iteration=10 train RMSE is 0.6413218418972256 \n"
     ]
    },
    {
     "name": "stderr",
     "output_type": "stream",
     "text": [
      "[Stage 62256:==================>                                    (2 + 4) / 6]\r"
     ]
    },
    {
     "name": "stdout",
     "output_type": "stream",
     "text": [
      "25 latent factors , regularization = 0.2: and iteration=15 train RMSE is 0.6284787942991211 \n",
      "\n",
      "The best model has 25 latent factors,  regularization = 0.01 and 15  iteration\n"
     ]
    },
    {
     "name": "stderr",
     "output_type": "stream",
     "text": [
      "\r",
      "[Stage 62256:=============================================>         (5 + 1) / 6]\r",
      "\r",
      "                                                                                \r"
     ]
    }
   ],
   "source": [
    "# Loops through all models and all folds\n",
    "\n",
    "min_error = float('inf')\n",
    "best_rank = -1\n",
    "best_regularization = 0\n",
    "best_model = None\n",
    "\n",
    "for rank in ranks:\n",
    "    for reg in regParams:\n",
    "        for maxIter in maxIters:\n",
    "\n",
    "            # create ALS model \n",
    "            als = ALS(userCol=\"user_id\",\n",
    "                            itemCol=\"book_id\",\n",
    "                            ratingCol=\"rating\",\n",
    "                            nonnegative = True,\n",
    "                            coldStartStrategy=\"drop\" ,\n",
    "                            seed=12,\n",
    "                            maxIter= maxIter,\n",
    "                            regParam = reg,\n",
    "                            rank = rank\n",
    "                           )\n",
    "\n",
    "            # train ALS model\n",
    "            model = als.fit(train_df)\n",
    "\n",
    "            # evaluate the model by computing the RMSE on the validation data\n",
    "            predictions = model.transform(train_df)\n",
    "            evaluator = RegressionEvaluator(metricName=\"rmse\",\n",
    "                                                labelCol=\"rating\",\n",
    "                                                predictionCol=\"prediction\")\n",
    "            \n",
    "            rmse = evaluator.evaluate(predictions)\n",
    "            print('{} latent factors , regularization = {}: and iteration={} '\n",
    "                    'train RMSE is {} '.format(rank, reg, maxIter, rmse))\n",
    "\n",
    "            if rmse < min_error:\n",
    "                min_error = rmse\n",
    "                best_rank = rank\n",
    "                best_regularization = reg\n",
    "                best_model = model\n",
    "                \n",
    "print('\\nThe best model has {} latent factors,  '\n",
    "          'regularization = {} and {}  iteration'\\\n",
    "      .format(best_rank, best_regularization, maxIter))\n"
   ]
  },
  {
   "cell_type": "code",
   "execution_count": null,
   "metadata": {},
   "outputs": [],
   "source": [
    "# for best model \n",
    "# rank : 9, \n",
    "# regParam: 0.01, \n",
    "# MaxIteration: 15  and RMSE is 0.42055550029582256 \n",
    "\n",
    "# en dusuk cikanlar:\n",
    "# maxIter : [5, 10, 15]\n",
    "# regParam :[0.01, 0.02]\n",
    "# rank: [10, 15, 20, 25]\n",
    "    \n",
    "# 25 latent factors , regularization = 0.01: and iteration=15 train RMSE is 0.18687192580352055\n",
    "# 25 latent factors , regularization = 0.2: and iteration=15 train RMSE is 0.6284787942991211 "
   ]
  },
  {
   "cell_type": "code",
   "execution_count": 133,
   "metadata": {
    "id": "HvZW9htIr4Aj"
   },
   "outputs": [],
   "source": [
    "# Set the ALS hyperparameters \n",
    "\n",
    "als = ALS(\n",
    "        userCol=\"user_id\",\n",
    "        itemCol=\"book_id\",\n",
    "        ratingCol=\"rating\",\n",
    "        nonnegative = True,\n",
    "        coldStartStrategy=\"drop\",\n",
    "        seed=12,\n",
    "        maxIter= 15,\n",
    "        regParam = 0.2,\n",
    "        rank = 25\n",
    "          )"
   ]
  },
  {
   "cell_type": "code",
   "execution_count": 134,
   "metadata": {
    "id": "ZDeg9Uher4e5"
   },
   "outputs": [
    {
     "name": "stderr",
     "output_type": "stream",
     "text": [
      "                                                                                \r"
     ]
    }
   ],
   "source": [
    "# Fit the mdoel to the training_data\n",
    "model = als.fit(train_df)"
   ]
  },
  {
   "cell_type": "code",
   "execution_count": 135,
   "metadata": {
    "id": "erRjop94QA40"
   },
   "outputs": [
    {
     "name": "stderr",
     "output_type": "stream",
     "text": [
      "[Stage 62706:=============================================>         (5 + 1) / 6]\r"
     ]
    },
    {
     "name": "stdout",
     "output_type": "stream",
     "text": [
      "The RMSE of train data is: 0.6284787942991211\n"
     ]
    },
    {
     "name": "stderr",
     "output_type": "stream",
     "text": [
      "\r",
      "                                                                                \r"
     ]
    }
   ],
   "source": [
    "# Generate predictions on the train_dataset\n",
    "\n",
    "train_predictions = model.transform(train_df)\n",
    "evaluator = RegressionEvaluator(metricName=\"rmse\",\n",
    "                                  labelCol=\"rating\",\n",
    "                             predictionCol=\"prediction\")\n",
    "\n",
    "# Evaluate the \"train_predictions\" dataframe\n",
    "\n",
    "train_rmse = evaluator.evaluate(train_predictions)\n",
    "print('The RMSE of train data is:', train_rmse)"
   ]
  },
  {
   "cell_type": "code",
   "execution_count": 136,
   "metadata": {
    "id": "pZB15ohbQAwA"
   },
   "outputs": [
    {
     "name": "stderr",
     "output_type": "stream",
     "text": [
      "[Stage 62708:====================================>                  (2 + 1) / 3]\r"
     ]
    },
    {
     "name": "stdout",
     "output_type": "stream",
     "text": [
      "+-------+-------+------+----------+\n",
      "|book_id|user_id|rating|prediction|\n",
      "+-------+-------+------+----------+\n",
      "|      1|  32592|     4| 4.1535325|\n",
      "|      2|  32592|     4|  4.050681|\n",
      "|      3|  19984|     2| 3.6524334|\n",
      "|      3|  32592|     5| 2.9154806|\n",
      "|      4|  32592|     5| 4.2619777|\n",
      "|      6|  35982|     2|  3.541034|\n",
      "|      7|  19984|     5|  4.891856|\n",
      "|      9|  32592|     3| 3.3598561|\n",
      "|     17|  19984|     5| 5.0283895|\n",
      "|     18|  32592|     4|  3.841711|\n",
      "+-------+-------+------+----------+\n",
      "only showing top 10 rows\n",
      "\n"
     ]
    },
    {
     "name": "stderr",
     "output_type": "stream",
     "text": [
      "\r",
      "                                                                                \r"
     ]
    }
   ],
   "source": [
    "train_predictions.show(10)"
   ]
  },
  {
   "cell_type": "code",
   "execution_count": 137,
   "metadata": {
    "id": "nkftwFWvQAnW"
   },
   "outputs": [
    {
     "name": "stderr",
     "output_type": "stream",
     "text": [
      "[Stage 62857:===========================>                           (1 + 1) / 2]\r"
     ]
    },
    {
     "name": "stdout",
     "output_type": "stream",
     "text": [
      "The RMSE of the test data is : 0.8960263412243926\n"
     ]
    },
    {
     "name": "stderr",
     "output_type": "stream",
     "text": [
      "\r",
      "                                                                                \r"
     ]
    }
   ],
   "source": [
    "# Generate predictions on the test_dataset\n",
    "\n",
    "test_predictions = model.transform(test_df)\n",
    "evaluator = RegressionEvaluator(metricName=\"rmse\",\n",
    "                                        labelCol=\"rating\",\n",
    "                                        predictionCol=\"prediction\")\n",
    "\n",
    "# Evaluate the \"test_predictions\" dataframe\n",
    "\n",
    "test_rmse = evaluator.evaluate(test_predictions)\n",
    "print('The RMSE of the test data is :', test_rmse)"
   ]
  },
  {
   "cell_type": "code",
   "execution_count": 138,
   "metadata": {
    "id": "OU1Of9B2QIAv"
   },
   "outputs": [
    {
     "name": "stderr",
     "output_type": "stream",
     "text": [
      "                                                                                \r"
     ]
    },
    {
     "name": "stdout",
     "output_type": "stream",
     "text": [
      "+-------+-------+------+----------+\n",
      "|book_id|user_id|rating|prediction|\n",
      "+-------+-------+------+----------+\n",
      "|      7|  32592|     4|  3.817233|\n",
      "|      8|  32592|     4| 3.6512852|\n",
      "|     11|  32592|     4| 3.8358636|\n",
      "|     21|  32592|     4| 3.9931645|\n",
      "|     24|  32592|     4| 4.1109004|\n",
      "|     26|  32592|     4| 3.2045233|\n",
      "|     26|  35982|     2|  2.543819|\n",
      "|     27|  32592|     4| 3.9805567|\n",
      "|     31|  32592|     5|  4.152665|\n",
      "|     51|  19984|     5|  4.470134|\n",
      "+-------+-------+------+----------+\n",
      "only showing top 10 rows\n",
      "\n"
     ]
    }
   ],
   "source": [
    "test_predictions.show(10)"
   ]
  },
  {
   "cell_type": "code",
   "execution_count": null,
   "metadata": {},
   "outputs": [],
   "source": [
    "\n",
    "# maxIter : [5, 10, 15]\n",
    "# regParam :[0.01, 0.02]\n",
    "# rank: [10, 15, 20, 25]"
   ]
  },
  {
   "cell_type": "code",
   "execution_count": 144,
   "metadata": {
    "id": "rkZazUj6r4nX"
   },
   "outputs": [],
   "source": [
    "# create ALS model\n",
    "als = ALS(userCol='user_id',\n",
    "          itemCol='book_id',\n",
    "          ratingCol='rating',\n",
    "          nonnegative=True,\n",
    "          coldStartStrategy='drop',\n",
    "          seed=12)\n",
    "\n",
    "\n",
    "# Create the parameter grid\n",
    "als_paramgrid = (ParamGridBuilder()\n",
    "                 .addGrid(als.rank, [10, 20, 25])\n",
    "                 .addGrid(als.maxIter, [5, 10, 15])\n",
    "                 .addGrid(als.regParam, [ 0.1, 0.01])\n",
    "                 .build())\n",
    "\n",
    "\n",
    "# evaluate predictions and get RMSE \n",
    "rmse_eval = RegressionEvaluator(labelCol='rating',\n",
    "                                predictionCol='prediction',\n",
    "                                metricName='rmse')\n",
    "\n",
    "# Create the CrossValidator\n",
    "als_cv = CrossValidator(estimator=als,\n",
    "                        estimatorParamMaps=als_paramgrid,\n",
    "                        evaluator=rmse_eval,\n",
    "                        numFolds=3,\n",
    "                        seed=12)"
   ]
  },
  {
   "cell_type": "code",
   "execution_count": 145,
   "metadata": {},
   "outputs": [
    {
     "name": "stderr",
     "output_type": "stream",
     "text": [
      "                                                                                \r"
     ]
    }
   ],
   "source": [
    "# Fit cross validation models\n",
    "als_cv = als_cv.fit(val_df)"
   ]
  },
  {
   "cell_type": "code",
   "execution_count": 146,
   "metadata": {},
   "outputs": [
    {
     "data": {
      "text/html": [
       "<div>\n",
       "<style scoped>\n",
       "    .dataframe tbody tr th:only-of-type {\n",
       "        vertical-align: middle;\n",
       "    }\n",
       "\n",
       "    .dataframe tbody tr th {\n",
       "        vertical-align: top;\n",
       "    }\n",
       "\n",
       "    .dataframe thead th {\n",
       "        text-align: right;\n",
       "    }\n",
       "</style>\n",
       "<table border=\"1\" class=\"dataframe\">\n",
       "  <thead>\n",
       "    <tr style=\"text-align: right;\">\n",
       "      <th></th>\n",
       "      <th>rmse</th>\n",
       "      <th>rank</th>\n",
       "      <th>maxIter</th>\n",
       "      <th>regParam</th>\n",
       "    </tr>\n",
       "  </thead>\n",
       "  <tbody>\n",
       "    <tr>\n",
       "      <th>0</th>\n",
       "      <td>1.189617</td>\n",
       "      <td>10</td>\n",
       "      <td>5</td>\n",
       "      <td>0.10</td>\n",
       "    </tr>\n",
       "    <tr>\n",
       "      <th>1</th>\n",
       "      <td>1.676766</td>\n",
       "      <td>10</td>\n",
       "      <td>5</td>\n",
       "      <td>0.01</td>\n",
       "    </tr>\n",
       "    <tr>\n",
       "      <th>2</th>\n",
       "      <td>1.115022</td>\n",
       "      <td>10</td>\n",
       "      <td>10</td>\n",
       "      <td>0.10</td>\n",
       "    </tr>\n",
       "    <tr>\n",
       "      <th>3</th>\n",
       "      <td>1.413345</td>\n",
       "      <td>10</td>\n",
       "      <td>10</td>\n",
       "      <td>0.01</td>\n",
       "    </tr>\n",
       "    <tr>\n",
       "      <th>4</th>\n",
       "      <td>1.109025</td>\n",
       "      <td>10</td>\n",
       "      <td>15</td>\n",
       "      <td>0.10</td>\n",
       "    </tr>\n",
       "    <tr>\n",
       "      <th>5</th>\n",
       "      <td>1.318451</td>\n",
       "      <td>10</td>\n",
       "      <td>15</td>\n",
       "      <td>0.01</td>\n",
       "    </tr>\n",
       "    <tr>\n",
       "      <th>6</th>\n",
       "      <td>1.122974</td>\n",
       "      <td>20</td>\n",
       "      <td>5</td>\n",
       "      <td>0.10</td>\n",
       "    </tr>\n",
       "    <tr>\n",
       "      <th>7</th>\n",
       "      <td>1.292905</td>\n",
       "      <td>20</td>\n",
       "      <td>5</td>\n",
       "      <td>0.01</td>\n",
       "    </tr>\n",
       "    <tr>\n",
       "      <th>8</th>\n",
       "      <td>1.077716</td>\n",
       "      <td>20</td>\n",
       "      <td>10</td>\n",
       "      <td>0.10</td>\n",
       "    </tr>\n",
       "    <tr>\n",
       "      <th>9</th>\n",
       "      <td>1.234719</td>\n",
       "      <td>20</td>\n",
       "      <td>10</td>\n",
       "      <td>0.01</td>\n",
       "    </tr>\n",
       "    <tr>\n",
       "      <th>10</th>\n",
       "      <td>1.079322</td>\n",
       "      <td>20</td>\n",
       "      <td>15</td>\n",
       "      <td>0.10</td>\n",
       "    </tr>\n",
       "    <tr>\n",
       "      <th>11</th>\n",
       "      <td>1.219460</td>\n",
       "      <td>20</td>\n",
       "      <td>15</td>\n",
       "      <td>0.01</td>\n",
       "    </tr>\n",
       "    <tr>\n",
       "      <th>12</th>\n",
       "      <td>1.105929</td>\n",
       "      <td>25</td>\n",
       "      <td>5</td>\n",
       "      <td>0.10</td>\n",
       "    </tr>\n",
       "    <tr>\n",
       "      <th>13</th>\n",
       "      <td>1.233112</td>\n",
       "      <td>25</td>\n",
       "      <td>5</td>\n",
       "      <td>0.01</td>\n",
       "    </tr>\n",
       "    <tr>\n",
       "      <th>14</th>\n",
       "      <td>1.069930</td>\n",
       "      <td>25</td>\n",
       "      <td>10</td>\n",
       "      <td>0.10</td>\n",
       "    </tr>\n",
       "    <tr>\n",
       "      <th>15</th>\n",
       "      <td>1.219510</td>\n",
       "      <td>25</td>\n",
       "      <td>10</td>\n",
       "      <td>0.01</td>\n",
       "    </tr>\n",
       "    <tr>\n",
       "      <th>16</th>\n",
       "      <td>1.073093</td>\n",
       "      <td>25</td>\n",
       "      <td>15</td>\n",
       "      <td>0.10</td>\n",
       "    </tr>\n",
       "    <tr>\n",
       "      <th>17</th>\n",
       "      <td>1.214490</td>\n",
       "      <td>25</td>\n",
       "      <td>15</td>\n",
       "      <td>0.01</td>\n",
       "    </tr>\n",
       "  </tbody>\n",
       "</table>\n",
       "</div>"
      ],
      "text/plain": [
       "        rmse  rank  maxIter  regParam\n",
       "0   1.189617    10        5      0.10\n",
       "1   1.676766    10        5      0.01\n",
       "2   1.115022    10       10      0.10\n",
       "3   1.413345    10       10      0.01\n",
       "4   1.109025    10       15      0.10\n",
       "5   1.318451    10       15      0.01\n",
       "6   1.122974    20        5      0.10\n",
       "7   1.292905    20        5      0.01\n",
       "8   1.077716    20       10      0.10\n",
       "9   1.234719    20       10      0.01\n",
       "10  1.079322    20       15      0.10\n",
       "11  1.219460    20       15      0.01\n",
       "12  1.105929    25        5      0.10\n",
       "13  1.233112    25        5      0.01\n",
       "14  1.069930    25       10      0.10\n",
       "15  1.219510    25       10      0.01\n",
       "16  1.073093    25       15      0.10\n",
       "17  1.214490    25       15      0.01"
      ]
     },
     "execution_count": 146,
     "metadata": {},
     "output_type": "execute_result"
    }
   ],
   "source": [
    "# Cross Validation Results and hyperparameters:\n",
    "\n",
    "params = [{p.name: v for p, v in m.items()} for m in als_cv.getEstimatorParamMaps()]\n",
    "\n",
    "pd.DataFrame.from_dict([\n",
    "    {als_cv.getEvaluator().getMetricName(): metric, **ps} \n",
    "    for ps, metric in zip(params, als_cv.avgMetrics)\n",
    "])"
   ]
  },
  {
   "cell_type": "code",
   "execution_count": null,
   "metadata": {},
   "outputs": [],
   "source": [
    "# rmse:1.063275\trank:25\tmaxIter:15\tregParam:0.33"
   ]
  },
  {
   "cell_type": "code",
   "execution_count": 147,
   "metadata": {
    "colab": {
     "base_uri": "https://localhost:8080/",
     "height": 164
    },
    "id": "rqhE1whZqYZS",
    "outputId": "efee8765-0f5c-4a4b-d08d-b87326b87586"
   },
   "outputs": [],
   "source": [
    "# extract best combination of values from cross validation\n",
    "\n",
    "als_best = als_cv.bestModel"
   ]
  },
  {
   "cell_type": "code",
   "execution_count": 151,
   "metadata": {},
   "outputs": [
    {
     "name": "stderr",
     "output_type": "stream",
     "text": [
      "                                                                                \r"
     ]
    },
    {
     "data": {
      "text/plain": [
       "1.0177372675044565"
      ]
     },
     "execution_count": 151,
     "metadata": {},
     "output_type": "execute_result"
    }
   ],
   "source": [
    "# Evaluate the \"test_predictions\" dataframe\n",
    "\n",
    "als_pred_best = als_best.transform(test_df) \n",
    "\n",
    "test_rmse = rmse_eval.evaluate(als_pred_best)\n",
    "test_rmse"
   ]
  },
  {
   "cell_type": "code",
   "execution_count": null,
   "metadata": {},
   "outputs": [],
   "source": [
    "# because of the best rmse was the first basic als 'model'"
   ]
  },
  {
   "cell_type": "code",
   "execution_count": 119,
   "metadata": {
    "id": "T_IhY6R9sJAC"
   },
   "outputs": [
    {
     "name": "stdout",
     "output_type": "stream",
     "text": [
      "** Best Model **\n"
     ]
    },
    {
     "name": "stderr",
     "output_type": "stream",
     "text": [
      "[Stage 54934:===========================>                           (1 + 1) / 2]\r"
     ]
    },
    {
     "name": "stdout",
     "output_type": "stream",
     "text": [
      " RMSE     :  1.0118091182634816\n",
      " Rank     :  30\n",
      " MaxIter  :  10\n",
      " RegParam :  0.1\n"
     ]
    },
    {
     "name": "stderr",
     "output_type": "stream",
     "text": [
      "\r",
      "                                                                                \r"
     ]
    }
   ],
   "source": [
    "# Print evaluation metrics and model parameters\n",
    "\n",
    "print (\"** Best Model **\")\n",
    "print (\" RMSE     : \",  rmse_eval.evaluate(als_pred_best))\n",
    "print (\" Rank     : \", als_best.rank )\n",
    "print (\" MaxIter  : \", als_best._java_obj.parent().getMaxIter())\n",
    "print (\" RegParam : \", als_best._java_obj.parent().getRegParam())"
   ]
  },
  {
   "cell_type": "code",
   "execution_count": null,
   "metadata": {
    "id": "CySZ_QIRQH5N"
   },
   "outputs": [],
   "source": [
    "# Generate top 10 book recommendations for each user\n",
    "userRecs = als_best.recommendForAllUsers(10)\n",
    "\n",
    "# Generate top 10 user recommendations for each book\n",
    "bookRecs = als_best.recommendForAllItems(10)"
   ]
  },
  {
   "cell_type": "code",
   "execution_count": 152,
   "metadata": {},
   "outputs": [],
   "source": [
    "#  with 'model'\n",
    "# Generate top 10 book recommendations for each user\n",
    "userRecs = model.recommendForAllUsers(10)\n",
    "\n",
    "# Generate top 10 user recommendations for each book\n",
    "bookRecs = model.recommendForAllItems(10)"
   ]
  },
  {
   "cell_type": "code",
   "execution_count": null,
   "metadata": {},
   "outputs": [],
   "source": [
    "userRecs.printSchema()"
   ]
  },
  {
   "cell_type": "code",
   "execution_count": 153,
   "metadata": {
    "id": "7AoBc6tYQUhC"
   },
   "outputs": [
    {
     "name": "stderr",
     "output_type": "stream",
     "text": [
      "[Stage 75862:=================================================>  (96 + 4) / 100]\r"
     ]
    },
    {
     "name": "stdout",
     "output_type": "stream",
     "text": [
      "+-------+---------------------------------------------------------------------------------------------------------------------------------------------------------------------------------------------+\n",
      "|user_id|recommendations                                                                                                                                                                              |\n",
      "+-------+---------------------------------------------------------------------------------------------------------------------------------------------------------------------------------------------+\n",
      "|26     |[{8818, 3.8447094}, {3248, 3.7278328}, {5207, 3.7266104}, {1788, 3.7203693}, {3628, 3.707313}, {4868, 3.6712635}, {8187, 3.655109}, {1380, 3.6309755}, {2209, 3.6303535}, {1877, 3.6170177}] |\n",
      "|27     |[{5207, 4.6912518}, {3628, 4.671396}, {862, 4.646945}, {4868, 4.621077}, {6920, 4.6074667}, {192, 4.6073065}, {6590, 4.6062126}, {4483, 4.6042986}, {3248, 4.595508}, {9842, 4.5944943}]     |\n",
      "|28     |[{6902, 1.9156815}, {7001, 1.9084926}, {9076, 1.8711631}, {4868, 1.8693314}, {6963, 1.8459578}, {7034, 1.8262506}, {1308, 1.8240708}, {8492, 1.8203474}, {4643, 1.8128716}, {862, 1.8008244}]|\n",
      "|31     |[{7522, 3.613232}, {8455, 3.5385492}, {6018, 3.518189}, {2840, 3.516573}, {2205, 3.45452}, {8571, 3.4373286}, {3692, 3.433817}, {2507, 3.432698}, {7386, 3.4257078}, {8187, 3.4230428}]      |\n",
      "|34     |[{6590, 3.0636048}, {9537, 3.0516288}, {2865, 3.0404837}, {8187, 3.0359585}, {3628, 3.033675}, {3722, 3.0297}, {5207, 3.0289965}, {6920, 3.0128524}, {7865, 3.0088346}, {6902, 3.003505}]    |\n",
      "|44     |[{3520, 4.222113}, {7401, 4.1693277}, {9399, 4.1089063}, {6425, 4.106}, {8854, 4.0836453}, {2450, 4.080663}, {2636, 4.069276}, {8548, 4.0609426}, {862, 4.0529366}, {2507, 4.0350623}]       |\n",
      "|53     |[{862, 1.0612237}, {5207, 1.0474379}, {9537, 1.044452}, {2840, 1.0439378}, {3885, 1.0404663}, {3692, 1.0398483}, {3628, 1.0391105}, {9842, 1.037224}, {6920, 1.0360426}, {6590, 1.0305941}]  |\n",
      "|65     |[{5207, 5.4159293}, {3628, 5.388173}, {1788, 5.333403}, {4483, 5.329347}, {862, 5.3250284}, {2244, 5.3169165}, {6920, 5.3146114}, {9076, 5.309372}, {4868, 5.3050923}, {8663, 5.2784185}]    |\n",
      "|76     |[{862, 4.895868}, {3885, 4.867547}, {9141, 4.8482304}, {4344, 4.8176866}, {9076, 4.8113713}, {2840, 4.7702284}, {307, 4.7552876}, {3491, 4.7490354}, {964, 4.7259674}, {1308, 4.7161036}]    |\n",
      "|78     |[{2840, 2.6310735}, {2149, 2.5828886}, {8187, 2.5798502}, {5730, 2.5760076}, {5399, 2.5566342}, {862, 2.5525823}, {4868, 2.5433683}, {5344, 2.5343988}, {3628, 2.5313866}, {3885, 2.5291026}]|\n",
      "+-------+---------------------------------------------------------------------------------------------------------------------------------------------------------------------------------------------+\n",
      "only showing top 10 rows\n",
      "\n"
     ]
    },
    {
     "name": "stderr",
     "output_type": "stream",
     "text": [
      "\r",
      "                                                                                \r"
     ]
    }
   ],
   "source": [
    "# visualize recommendations\n",
    "userRecs.show(10, truncate=False)"
   ]
  },
  {
   "cell_type": "code",
   "execution_count": 154,
   "metadata": {},
   "outputs": [
    {
     "name": "stderr",
     "output_type": "stream",
     "text": [
      "[Stage 75931:==================================================> (97 + 3) / 100]\r"
     ]
    },
    {
     "name": "stdout",
     "output_type": "stream",
     "text": [
      "+-------+---------------------------------------------------------------------------------------------------------------------------------------------------------------------------------------------------+\n",
      "|book_id|recommendations                                                                                                                                                                                    |\n",
      "+-------+---------------------------------------------------------------------------------------------------------------------------------------------------------------------------------------------------+\n",
      "|26     |[{11193, 4.4230995}, {9448, 4.418215}, {23487, 4.356769}, {30440, 4.3460603}, {52566, 4.311176}, {1653, 4.298447}, {8643, 4.2859035}, {40181, 4.2700334}, {32996, 4.2677155}, {33252, 4.260039}]   |\n",
      "|27     |[{53397, 5.350847}, {1560, 5.3042727}, {52028, 5.27544}, {4134, 5.234035}, {32627, 5.230103}, {26446, 5.2300353}, {3573, 5.2127194}, {44660, 5.201069}, {30440, 5.1925454}, {3729, 5.190469}]      |\n",
      "|28     |[{53397, 5.0008802}, {9144, 4.9184523}, {3729, 4.9104643}, {3956, 4.901856}, {29054, 4.87736}, {3573, 4.854551}, {37163, 4.8473444}, {27401, 4.8354445}, {15548, 4.829298}, {16988, 4.824992}]     |\n",
      "|31     |[{53397, 5.621658}, {30440, 5.5612216}, {11193, 5.5360184}, {23487, 5.528937}, {1653, 5.5215454}, {52566, 5.474381}, {9448, 5.4709034}, {29642, 5.452545}, {26602, 5.4516973}, {51626, 5.4430466}] |\n",
      "|34     |[{43384, 4.298216}, {43456, 4.187137}, {52566, 4.1383758}, {43392, 4.1370697}, {43380, 4.120049}, {33963, 4.105782}, {35231, 4.05721}, {43418, 4.0485144}, {8640, 4.0370727}, {10827, 3.9848092}]  |\n",
      "|44     |[{30440, 4.648916}, {51626, 4.5553517}, {52566, 4.5464644}, {29642, 4.540704}, {1653, 4.5362487}, {9448, 4.5307336}, {7817, 4.5289655}, {8643, 4.514509}, {23487, 4.5100083}, {38867, 4.4905047}]  |\n",
      "|53     |[{3956, 4.5401974}, {53397, 4.530691}, {14328, 4.4984527}, {29054, 4.496186}, {51357, 4.4948826}, {50333, 4.4877143}, {41085, 4.4838634}, {6231, 4.4814205}, {29500, 4.470916}, {37163, 4.4585366}]|\n",
      "|65     |[{29054, 5.223101}, {12749, 5.0850897}, {50307, 5.0826864}, {6231, 5.0797954}, {50333, 5.079525}, {3956, 5.068904}, {38866, 5.065316}, {49011, 5.0553336}, {34886, 5.0541143}, {20992, 5.0425615}] |\n",
      "|76     |[{53397, 4.886816}, {1560, 4.7921777}, {16392, 4.779705}, {26446, 4.7735925}, {36896, 4.771864}, {3956, 4.767806}, {15548, 4.758228}, {9144, 4.7538548}, {45655, 4.7490125}, {23487, 4.7489705}]   |\n",
      "|78     |[{53397, 4.510708}, {32066, 4.492616}, {23487, 4.483336}, {1653, 4.4781237}, {28777, 4.448845}, {9448, 4.446069}, {29054, 4.4450436}, {11193, 4.4416637}, {52566, 4.435569}, {3956, 4.418479}]     |\n",
      "+-------+---------------------------------------------------------------------------------------------------------------------------------------------------------------------------------------------------+\n",
      "only showing top 10 rows\n",
      "\n"
     ]
    },
    {
     "name": "stderr",
     "output_type": "stream",
     "text": [
      "\r",
      "                                                                                \r"
     ]
    }
   ],
   "source": [
    "bookRecs.show(10,truncate=False)"
   ]
  },
  {
   "cell_type": "code",
   "execution_count": 183,
   "metadata": {},
   "outputs": [
    {
     "name": "stdout",
     "output_type": "stream",
     "text": [
      "root\n",
      " |-- book_id: integer (nullable = false)\n",
      " |-- recommendations: array (nullable = true)\n",
      " |    |-- element: struct (containsNull = true)\n",
      " |    |    |-- user_id: integer (nullable = true)\n",
      " |    |    |-- rating: float (nullable = true)\n",
      "\n"
     ]
    }
   ],
   "source": [
    "bookRecs.printSchema()"
   ]
  },
  {
   "cell_type": "code",
   "execution_count": null,
   "metadata": {},
   "outputs": [],
   "source": [
    "recommendations_table= userRecs.select('user_id','recommendations.book_id')\n",
    "recommendations_table.show(10, False)"
   ]
  },
  {
   "cell_type": "code",
   "execution_count": 155,
   "metadata": {
    "id": "bHMiZV34qo1n"
   },
   "outputs": [
    {
     "name": "stderr",
     "output_type": "stream",
     "text": [
      "[Stage 76000:===================================================>(99 + 1) / 100]\r"
     ]
    },
    {
     "name": "stdout",
     "output_type": "stream",
     "text": [
      "+-------+-------+---------+\n",
      "|user_id|book_id|   rating|\n",
      "+-------+-------+---------+\n",
      "|     26|   8818|3.8447094|\n",
      "|     26|   3248|3.7278328|\n",
      "|     26|   5207|3.7266104|\n",
      "|     26|   1788|3.7203693|\n",
      "|     26|   3628| 3.707313|\n",
      "|     26|   4868|3.6712635|\n",
      "|     26|   8187| 3.655109|\n",
      "|     26|   1380|3.6309755|\n",
      "|     26|   2209|3.6303535|\n",
      "|     26|   1877|3.6170177|\n",
      "+-------+-------+---------+\n",
      "only showing top 10 rows\n",
      "\n"
     ]
    },
    {
     "name": "stderr",
     "output_type": "stream",
     "text": [
      "\r",
      "                                                                                \r"
     ]
    }
   ],
   "source": [
    "recommendations_table = userRecs.withColumn('splited', explode('recommendations')) \\\n",
    "                                .select('user_id', col(\"splited.book_id\"), col(\"splited.rating\"))\n",
    "\n",
    "recommendations_table.show(10)"
   ]
  },
  {
   "cell_type": "code",
   "execution_count": 197,
   "metadata": {},
   "outputs": [
    {
     "name": "stderr",
     "output_type": "stream",
     "text": [
      "                                                                                \r"
     ]
    },
    {
     "name": "stdout",
     "output_type": "stream",
     "text": [
      "+-------+-------+---------+\n",
      "|user_id|book_id|   rating|\n",
      "+-------+-------+---------+\n",
      "|     26|   8818|3.8447094|\n",
      "|     26|   3248|3.7278328|\n",
      "|     26|   5207|3.7266104|\n",
      "|     26|   1788|3.7203693|\n",
      "|     26|   3628| 3.707313|\n",
      "|     26|   4868|3.6712635|\n",
      "|     26|   8187| 3.655109|\n",
      "|     26|   1380|3.6309755|\n",
      "|     26|   2209|3.6303535|\n",
      "|     26|   1877|3.6170177|\n",
      "+-------+-------+---------+\n",
      "\n"
     ]
    },
    {
     "name": "stderr",
     "output_type": "stream",
     "text": [
      "23/07/09 15:18:27 WARN JavaUtils: Attempt to delete using native Unix OS command failed for path = /private/var/folders/d2/n1xb2cz570j1wrqj87c40trm0000gn/T/blockmgr-2739322a-1126-4133-a67f-f47c3006e16a. Falling back to Java IO way\n",
      "java.io.IOException: Failed to delete: /private/var/folders/d2/n1xb2cz570j1wrqj87c40trm0000gn/T/blockmgr-2739322a-1126-4133-a67f-f47c3006e16a\n",
      "\tat org.apache.spark.network.util.JavaUtils.deleteRecursivelyUsingUnixNative(JavaUtils.java:177)\n",
      "\tat org.apache.spark.network.util.JavaUtils.deleteRecursively(JavaUtils.java:113)\n",
      "\tat org.apache.spark.network.util.JavaUtils.deleteRecursively(JavaUtils.java:94)\n",
      "\tat org.apache.spark.util.Utils$.deleteRecursively(Utils.scala:1231)\n",
      "\tat org.apache.spark.storage.DiskBlockManager.$anonfun$doStop$1(DiskBlockManager.scala:368)\n",
      "\tat org.apache.spark.storage.DiskBlockManager.$anonfun$doStop$1$adapted(DiskBlockManager.scala:364)\n",
      "\tat scala.collection.IndexedSeqOptimized.foreach(IndexedSeqOptimized.scala:36)\n",
      "\tat scala.collection.IndexedSeqOptimized.foreach$(IndexedSeqOptimized.scala:33)\n",
      "\tat scala.collection.mutable.ArrayOps$ofRef.foreach(ArrayOps.scala:198)\n",
      "\tat org.apache.spark.storage.DiskBlockManager.doStop(DiskBlockManager.scala:364)\n",
      "\tat org.apache.spark.storage.DiskBlockManager.stop(DiskBlockManager.scala:359)\n",
      "\tat org.apache.spark.storage.BlockManager.stop(BlockManager.scala:2052)\n",
      "\tat org.apache.spark.SparkEnv.stop(SparkEnv.scala:95)\n",
      "\tat org.apache.spark.SparkContext.$anonfun$stop$25(SparkContext.scala:2175)\n",
      "\tat org.apache.spark.util.Utils$.tryLogNonFatalError(Utils.scala:1509)\n",
      "\tat org.apache.spark.SparkContext.stop(SparkContext.scala:2175)\n",
      "\tat org.apache.spark.SparkContext.stop(SparkContext.scala:2081)\n",
      "\tat org.apache.spark.SparkContext.$anonfun$new$31(SparkContext.scala:664)\n",
      "\tat org.apache.spark.util.SparkShutdownHook.run(ShutdownHookManager.scala:214)\n",
      "\tat org.apache.spark.util.SparkShutdownHookManager.$anonfun$runAll$2(ShutdownHookManager.scala:188)\n",
      "\tat scala.runtime.java8.JFunction0$mcV$sp.apply(JFunction0$mcV$sp.java:23)\n",
      "\tat org.apache.spark.util.Utils$.logUncaughtExceptions(Utils.scala:2088)\n",
      "\tat org.apache.spark.util.SparkShutdownHookManager.$anonfun$runAll$1(ShutdownHookManager.scala:188)\n",
      "\tat scala.runtime.java8.JFunction0$mcV$sp.apply(JFunction0$mcV$sp.java:23)\n",
      "\tat scala.util.Try$.apply(Try.scala:213)\n",
      "\tat org.apache.spark.util.SparkShutdownHookManager.runAll(ShutdownHookManager.scala:188)\n",
      "\tat org.apache.spark.util.SparkShutdownHookManager$$anon$2.run(ShutdownHookManager.scala:178)\n",
      "\tat java.util.concurrent.Executors$RunnableAdapter.call(Executors.java:511)\n",
      "\tat java.util.concurrent.FutureTask.run(FutureTask.java:266)\n",
      "\tat java.util.concurrent.ThreadPoolExecutor.runWorker(ThreadPoolExecutor.java:1149)\n",
      "\tat java.util.concurrent.ThreadPoolExecutor$Worker.run(ThreadPoolExecutor.java:624)\n",
      "\tat java.lang.Thread.run(Thread.java:750)\n",
      "23/07/09 15:18:28 WARN JavaUtils: Attempt to delete using native Unix OS command failed for path = /private/var/folders/d2/n1xb2cz570j1wrqj87c40trm0000gn/T/blockmgr-2739322a-1126-4133-a67f-f47c3006e16a/23. Falling back to Java IO way\n",
      "java.io.IOException: Failed to delete: /private/var/folders/d2/n1xb2cz570j1wrqj87c40trm0000gn/T/blockmgr-2739322a-1126-4133-a67f-f47c3006e16a/23\n",
      "\tat org.apache.spark.network.util.JavaUtils.deleteRecursivelyUsingUnixNative(JavaUtils.java:177)\n",
      "\tat org.apache.spark.network.util.JavaUtils.deleteRecursively(JavaUtils.java:113)\n",
      "\tat org.apache.spark.network.util.JavaUtils.deleteRecursivelyUsingJavaIO(JavaUtils.java:133)\n",
      "\tat org.apache.spark.network.util.JavaUtils.deleteRecursively(JavaUtils.java:121)\n",
      "\tat org.apache.spark.network.util.JavaUtils.deleteRecursively(JavaUtils.java:94)\n",
      "\tat org.apache.spark.util.Utils$.deleteRecursively(Utils.scala:1231)\n",
      "\tat org.apache.spark.storage.DiskBlockManager.$anonfun$doStop$1(DiskBlockManager.scala:368)\n",
      "\tat org.apache.spark.storage.DiskBlockManager.$anonfun$doStop$1$adapted(DiskBlockManager.scala:364)\n",
      "\tat scala.collection.IndexedSeqOptimized.foreach(IndexedSeqOptimized.scala:36)\n",
      "\tat scala.collection.IndexedSeqOptimized.foreach$(IndexedSeqOptimized.scala:33)\n",
      "\tat scala.collection.mutable.ArrayOps$ofRef.foreach(ArrayOps.scala:198)\n",
      "\tat org.apache.spark.storage.DiskBlockManager.doStop(DiskBlockManager.scala:364)\n",
      "\tat org.apache.spark.storage.DiskBlockManager.stop(DiskBlockManager.scala:359)\n",
      "\tat org.apache.spark.storage.BlockManager.stop(BlockManager.scala:2052)\n",
      "\tat org.apache.spark.SparkEnv.stop(SparkEnv.scala:95)\n",
      "\tat org.apache.spark.SparkContext.$anonfun$stop$25(SparkContext.scala:2175)\n",
      "\tat org.apache.spark.util.Utils$.tryLogNonFatalError(Utils.scala:1509)\n",
      "\tat org.apache.spark.SparkContext.stop(SparkContext.scala:2175)\n",
      "\tat org.apache.spark.SparkContext.stop(SparkContext.scala:2081)\n",
      "\tat org.apache.spark.SparkContext.$anonfun$new$31(SparkContext.scala:664)\n",
      "\tat org.apache.spark.util.SparkShutdownHook.run(ShutdownHookManager.scala:214)\n",
      "\tat org.apache.spark.util.SparkShutdownHookManager.$anonfun$runAll$2(ShutdownHookManager.scala:188)\n",
      "\tat scala.runtime.java8.JFunction0$mcV$sp.apply(JFunction0$mcV$sp.java:23)\n",
      "\tat org.apache.spark.util.Utils$.logUncaughtExceptions(Utils.scala:2088)\n",
      "\tat org.apache.spark.util.SparkShutdownHookManager.$anonfun$runAll$1(ShutdownHookManager.scala:188)\n",
      "\tat scala.runtime.java8.JFunction0$mcV$sp.apply(JFunction0$mcV$sp.java:23)\n",
      "\tat scala.util.Try$.apply(Try.scala:213)\n",
      "\tat org.apache.spark.util.SparkShutdownHookManager.runAll(ShutdownHookManager.scala:188)\n",
      "\tat org.apache.spark.util.SparkShutdownHookManager$$anon$2.run(ShutdownHookManager.scala:178)\n",
      "\tat java.util.concurrent.Executors$RunnableAdapter.call(Executors.java:511)\n",
      "\tat java.util.concurrent.FutureTask.run(FutureTask.java:266)\n",
      "\tat java.util.concurrent.ThreadPoolExecutor.runWorker(ThreadPoolExecutor.java:1149)\n",
      "\tat java.util.concurrent.ThreadPoolExecutor$Worker.run(ThreadPoolExecutor.java:624)\n",
      "\tat java.lang.Thread.run(Thread.java:750)\n"
     ]
    }
   ],
   "source": [
    "recommendations_table[recommendations_table.user_id == 26].show()"
   ]
  },
  {
   "cell_type": "code",
   "execution_count": 159,
   "metadata": {},
   "outputs": [
    {
     "name": "stderr",
     "output_type": "stream",
     "text": [
      "                                                                                \r"
     ]
    }
   ],
   "source": [
    "# for streamlit \n",
    "recommendations_table_df = recommendations_table.toPandas()"
   ]
  },
  {
   "cell_type": "code",
   "execution_count": null,
   "metadata": {},
   "outputs": [],
   "source": [
    "recommendations_table.count()"
   ]
  },
  {
   "cell_type": "code",
   "execution_count": null,
   "metadata": {},
   "outputs": [],
   "source": [
    "recommendations_table.printSchema()"
   ]
  },
  {
   "cell_type": "code",
   "execution_count": null,
   "metadata": {},
   "outputs": [],
   "source": [
    "books.createOrReplaceTempView('books_table')\n",
    "recommendations_table.createOrReplaceTempView('recommendation_table')\n",
    "\n",
    "join_table = spark.sql('SELECT `b`.`title`,  `r`.`user_id` , `b`.`authors`, `b`.`book_id`, `r`.`rating`,`b`.`image_url`, `b`.`id`\\\n",
    "                          FROM recommendation_table as r \\\n",
    "                          JOIN books_table as b ON `r`.`book_id` =`b`.`id` '\n",
    "                        )\n",
    "\n",
    "join_table = join_table.sort(desc(\"user_id\"))\n",
    "join_table.show()"
   ]
  },
  {
   "cell_type": "code",
   "execution_count": null,
   "metadata": {},
   "outputs": [],
   "source": [
    "join_table[join_table.user_id == 16].show(10)\n"
   ]
  },
  {
   "cell_type": "code",
   "execution_count": 172,
   "metadata": {},
   "outputs": [],
   "source": [
    "list1 = recommendations_table_df[recommendations_table_df.user_id == 26]\n"
   ]
  },
  {
   "cell_type": "code",
   "execution_count": 173,
   "metadata": {},
   "outputs": [
    {
     "data": {
      "text/html": [
       "<div>\n",
       "<style scoped>\n",
       "    .dataframe tbody tr th:only-of-type {\n",
       "        vertical-align: middle;\n",
       "    }\n",
       "\n",
       "    .dataframe tbody tr th {\n",
       "        vertical-align: top;\n",
       "    }\n",
       "\n",
       "    .dataframe thead th {\n",
       "        text-align: right;\n",
       "    }\n",
       "</style>\n",
       "<table border=\"1\" class=\"dataframe\">\n",
       "  <thead>\n",
       "    <tr style=\"text-align: right;\">\n",
       "      <th></th>\n",
       "      <th>user_id</th>\n",
       "      <th>book_id</th>\n",
       "      <th>rating</th>\n",
       "    </tr>\n",
       "  </thead>\n",
       "  <tbody>\n",
       "    <tr>\n",
       "      <th>0</th>\n",
       "      <td>26</td>\n",
       "      <td>8818</td>\n",
       "      <td>3.844709</td>\n",
       "    </tr>\n",
       "    <tr>\n",
       "      <th>1</th>\n",
       "      <td>26</td>\n",
       "      <td>3248</td>\n",
       "      <td>3.727833</td>\n",
       "    </tr>\n",
       "    <tr>\n",
       "      <th>2</th>\n",
       "      <td>26</td>\n",
       "      <td>5207</td>\n",
       "      <td>3.726610</td>\n",
       "    </tr>\n",
       "    <tr>\n",
       "      <th>3</th>\n",
       "      <td>26</td>\n",
       "      <td>1788</td>\n",
       "      <td>3.720369</td>\n",
       "    </tr>\n",
       "    <tr>\n",
       "      <th>4</th>\n",
       "      <td>26</td>\n",
       "      <td>3628</td>\n",
       "      <td>3.707313</td>\n",
       "    </tr>\n",
       "    <tr>\n",
       "      <th>5</th>\n",
       "      <td>26</td>\n",
       "      <td>4868</td>\n",
       "      <td>3.671263</td>\n",
       "    </tr>\n",
       "    <tr>\n",
       "      <th>6</th>\n",
       "      <td>26</td>\n",
       "      <td>8187</td>\n",
       "      <td>3.655109</td>\n",
       "    </tr>\n",
       "    <tr>\n",
       "      <th>7</th>\n",
       "      <td>26</td>\n",
       "      <td>1380</td>\n",
       "      <td>3.630975</td>\n",
       "    </tr>\n",
       "    <tr>\n",
       "      <th>8</th>\n",
       "      <td>26</td>\n",
       "      <td>2209</td>\n",
       "      <td>3.630353</td>\n",
       "    </tr>\n",
       "    <tr>\n",
       "      <th>9</th>\n",
       "      <td>26</td>\n",
       "      <td>1877</td>\n",
       "      <td>3.617018</td>\n",
       "    </tr>\n",
       "  </tbody>\n",
       "</table>\n",
       "</div>"
      ],
      "text/plain": [
       "   user_id  book_id    rating\n",
       "0       26     8818  3.844709\n",
       "1       26     3248  3.727833\n",
       "2       26     5207  3.726610\n",
       "3       26     1788  3.720369\n",
       "4       26     3628  3.707313\n",
       "5       26     4868  3.671263\n",
       "6       26     8187  3.655109\n",
       "7       26     1380  3.630975\n",
       "8       26     2209  3.630353\n",
       "9       26     1877  3.617018"
      ]
     },
     "execution_count": 173,
     "metadata": {},
     "output_type": "execute_result"
    }
   ],
   "source": [
    "list1"
   ]
  },
  {
   "cell_type": "code",
   "execution_count": null,
   "metadata": {},
   "outputs": [],
   "source": [
    "recommendation_tbl = join_table.toPandas()"
   ]
  },
  {
   "cell_type": "code",
   "execution_count": null,
   "metadata": {},
   "outputs": [],
   "source": [
    "#  recommendation for one user \n",
    "for_one_user = als_pred_best.filter(col(\"user_id\")==10)\\\n",
    "                          .join(books, \"book_id\")\\\n",
    "                          .select(\"user_id\", \"title\", \"image_url\", \"prediction\", \"rating\")\n",
    "\n",
    "for_one_user.show()"
   ]
  },
  {
   "cell_type": "code",
   "execution_count": null,
   "metadata": {},
   "outputs": [],
   "source": [
    "# to show all predicted book image\n",
    "from IPython. display import Image\n",
    "from IPython.display import display\n",
    "\n",
    "for book in for_one_user.take(5):\n",
    "    print(book.title)\n",
    "    display(Image (url=book.image_url))"
   ]
  },
  {
   "cell_type": "code",
   "execution_count": null,
   "metadata": {
    "id": "BjaH3VaEskqU"
   },
   "outputs": [],
   "source": [
    "# Generate top 5 book recommendations for a specified set of users\n",
    "\n",
    "users = ratings.select(als_best.getUserCol()).distinct().limit(3)\n",
    "userSubsetRecs = als_best.recommendForUserSubset(users, 5)\n",
    "userSubsetRecs.show(truncate=False)"
   ]
  },
  {
   "cell_type": "code",
   "execution_count": 184,
   "metadata": {},
   "outputs": [],
   "source": [
    "# Prediction for a user and match with to-read list\n",
    "\n",
    "book_ids = [860, 1524, 2885, 2914, 5297, 7397, 8802,9506]\n",
    "user_ids = [4917,4917,4917,4917,4917,4917,4917,4917]\n",
    "\n",
    "new_user_preds = sqlContext.createDataFrame(zip (book_ids, user_ids), schema= ['book_id', 'user_id'])"
   ]
  },
  {
   "cell_type": "code",
   "execution_count": 185,
   "metadata": {},
   "outputs": [
    {
     "name": "stderr",
     "output_type": "stream",
     "text": [
      "                                                                                \r"
     ]
    },
    {
     "name": "stdout",
     "output_type": "stream",
     "text": [
      "+-------+-------+\n",
      "|book_id|user_id|\n",
      "+-------+-------+\n",
      "|    860|   4917|\n",
      "|   1524|   4917|\n",
      "|   2885|   4917|\n",
      "|   2914|   4917|\n",
      "|   5297|   4917|\n",
      "|   7397|   4917|\n",
      "|   8802|   4917|\n",
      "|   9506|   4917|\n",
      "+-------+-------+\n",
      "\n"
     ]
    }
   ],
   "source": [
    "new_user_preds.show()"
   ]
  },
  {
   "cell_type": "code",
   "execution_count": 190,
   "metadata": {},
   "outputs": [
    {
     "name": "stderr",
     "output_type": "stream",
     "text": [
      "                                                                                \r"
     ]
    },
    {
     "name": "stdout",
     "output_type": "stream",
     "text": [
      "+-------+-------+----------+\n",
      "|book_id|user_id|prediction|\n",
      "+-------+-------+----------+\n",
      "|    860|   4917| 3.5690165|\n",
      "|   9506|   4917| 3.5475159|\n",
      "|   1524|   4917| 3.5270498|\n",
      "|   7397|   4917| 3.4522545|\n",
      "|   2914|   4917| 3.3611915|\n",
      "|   5297|   4917| 3.2906456|\n",
      "|   2885|   4917| 3.2073739|\n",
      "|   8802|   4917| 3.1502092|\n",
      "+-------+-------+----------+\n",
      "\n"
     ]
    }
   ],
   "source": [
    "new_predictions = model.transform(new_user_preds)\n",
    "new_predictions.sort(desc(\"prediction\")).show()"
   ]
  },
  {
   "cell_type": "code",
   "execution_count": 162,
   "metadata": {
    "id": "yOoLf2KpLmR0"
   },
   "outputs": [],
   "source": [
    "import pickle\n",
    "\n",
    "\n",
    "\n",
    "# recommendation table with image_url\n",
    "pickle.dump(recommendations_table_df,open('recommendation_tbl.pkl','wb'))\n",
    "\n",
    "\n",
    "# pickle.dump(userRecs_df,open('user_recs.pkl','wb'))\n",
    "\n",
    "# als_best.save(\"model\")\n",
    "\n",
    "\n",
    "# top 100 books\n",
    "pickle.dump(top_books_df,open('top_100_books.pkl','wb'))\n",
    "\n",
    "# books\n",
    "pickle.dump(df_books,open('df_books.pkl','wb'))"
   ]
  }
 ],
 "metadata": {
  "accelerator": "GPU",
  "colab": {
   "gpuType": "T4",
   "machine_shape": "hm",
   "provenance": []
  },
  "kernelspec": {
   "display_name": "Python 3 (ipykernel)",
   "language": "python",
   "name": "python3"
  },
  "language_info": {
   "codemirror_mode": {
    "name": "ipython",
    "version": 3
   },
   "file_extension": ".py",
   "mimetype": "text/x-python",
   "name": "python",
   "nbconvert_exporter": "python",
   "pygments_lexer": "ipython3",
   "version": "3.10.9"
  }
 },
 "nbformat": 4,
 "nbformat_minor": 1
}
